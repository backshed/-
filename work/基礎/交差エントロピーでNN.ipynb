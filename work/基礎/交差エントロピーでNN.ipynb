{
 "cells": [
  {
   "cell_type": "code",
   "execution_count": 569,
   "metadata": {
    "collapsed": false
   },
   "outputs": [
    {
     "data": {
      "image/png": "[encoded data removed]",
      "text/latex": [
       "$$\\frac{2.0 \\sigma_{b} \\left(\\mu_{a} x + \\mu_{b}\\right)}{\\left(\\sigma_{a}^{2} x^{2} + \\sigma_{b}^{2}\\right)^{\\frac{3}{2}}}$$"
      ],
      "text/plain": [
       "2.0⋅σ_b⋅(μₐ⋅x + μ_b)\n",
       "────────────────────\n",
       "                3/2 \n",
       " ⎛  2  2      2⎞    \n",
       " ⎝σₐ ⋅x  + σ_b ⎠    "
      ]
     },
     "metadata": {},
     "output_type": "display_data"
    }
   ],
   "source": [
    "#プロトタイプ\n",
    "%matplotlib inline\n",
    "from sympy import *\n",
    "init_printing()\n",
    "y,x,ua,ub,sa,sb,x,d = symbols('y,x,mu_a,mu_b,sigma_a,sigma_b,x,d')\n",
    "f = 0.5 + 0.5 * erf((ua*x+ub)/sqrt(sa*sa*x*x+sb*sb))\n",
    "p = exp(-(ua*x+ub)**2/(sa*sa*x*x+sb*sb))/sqrt(pi)\n",
    "display(diff((d-f)**2, sb)/p/(d-f))"
   ]
  },
  {
   "cell_type": "code",
   "execution_count": 591,
   "metadata": {
    "collapsed": false
   },
   "outputs": [
    {
     "data": {
      "text/plain": [
       "array([[-1.56892409,  2.83832354],\n",
       "       [ 1.83826393, -2.60996523]])"
      ]
     },
     "metadata": {},
     "output_type": "display_data"
    },
    {
     "data": {
      "text/plain": [
       "array([[-0.64148405],\n",
       "       [ 0.37461872]])"
      ]
     },
     "metadata": {},
     "output_type": "display_data"
    },
    {
     "data": {
      "text/plain": [
       "array([[ 1.,  1.],\n",
       "       [ 1.,  1.]])"
      ]
     },
     "metadata": {},
     "output_type": "display_data"
    },
    {
     "data": {
      "text/plain": [
       "array([[ 1.],\n",
       "       [ 1.]])"
      ]
     },
     "metadata": {},
     "output_type": "display_data"
    },
    {
     "data": {
      "text/plain": [
       "array([[ 0.01401596],\n",
       "       [ 0.9873027 ]])"
      ]
     },
     "metadata": {},
     "output_type": "display_data"
    },
    {
     "data": {
      "text/plain": [
       "array([[ 0.98646158],\n",
       "       [ 0.01345287]])"
      ]
     },
     "metadata": {},
     "output_type": "display_data"
    },
    {
     "data": {
      "text/plain": [
       "[<matplotlib.lines.Line2D at 0x1b6ed1b50>]"
      ]
     },
     "execution_count": 591,
     "metadata": {},
     "output_type": "execute_result"
    },
    {
     "data": {
      "image/png": "[encoded data removed]",
      "text/plain": [
       "<matplotlib.figure.Figure at 0x19c626e10>"
      ]
     },
     "metadata": {},
     "output_type": "display_data"
    }
   ],
   "source": [
    "#プロトタイプ\n",
    "%matplotlib inline\n",
    "from IPython.display import display\n",
    "from matplotlib.pylab import *\n",
    "from scipy.special import *\n",
    "I=map(lambda v:transpose(array([v],dtype='float64')),[[0,1],[1,0]])\n",
    "O=map(lambda v:transpose(array([v],dtype='float64')),[[1,0],[0,1]])\n",
    "WU = normal(0,1,(2,2))\n",
    "WS = ones((2,2))\n",
    "BU = normal(0,1,(2,1))\n",
    "BS = ones((2,1))\n",
    "eps = 0.1\n",
    "err = []\n",
    "\n",
    "def F(x, u, s):\n",
    "    return 0.5 + 0.5 * erf((x-u)/s)\n",
    "    \n",
    "def P(x, u, s):\n",
    "    return exp(-((x-u)/s)**2)/sqrt(pi)/s    \n",
    "\n",
    "for k in range(2**14):\n",
    "    X = I[ k % 2 ]\n",
    "    Y = O[ k % 2 ]\n",
    "    B = zeros((2,1),dtype='float64')\n",
    "    W = zeros((2,2),dtype='float64')\n",
    "\n",
    "    V  = dot(W,     X   )+B\n",
    "    VU = dot(WU,    X   )+BU\n",
    "    VV = dot(WS**2, X**2)+BS**2\n",
    "    VS = sqrt(VV)\n",
    "    F = 0.5 + 0.5*erf(-VU/VS)\n",
    "    E = Y - F\n",
    "    J = P(0, VU, VS)\n",
    "    \n",
    "    V[0] = normal(WU[0,0],abs(WS[0,0])) * X[0] + normal(WU[0,1],abs(WS[0,1])) * X[1] + normal(BU[0],abs(BS[0]))\n",
    "    V[1] = normal(WU[1,0],abs(WS[1,1])) * X[0] + normal(WU[1,1],abs(WS[1,1])) * X[1] + normal(BU[1],abs(BS[1]))\n",
    "    VU[0] = WU[0,0]*X[0] + WU[0,1] * X[1] + BU[0]\n",
    "    VU[1] = WU[1,0]*X[0] + WU[1,1] * X[1] + BU[1]\n",
    "    VV[0] = (WS[0,0]*X[0])**2 + (WS[0,1]*X[1])**2\n",
    "    VV[1] = (WS[1,0]*X[0])**2 + (WS[1,1]*X[1])**2\n",
    "    VS[0] = sqrt(VV[0])\n",
    "    VS[1] = sqrt(VV[1])\n",
    "    E[0] = Y[0] - (0<V[0])\n",
    "    E[1] = Y[1] - (0<V[1])\n",
    "    J[0] = exp(-VU[0]*VU[0])/sqrt(pi)\n",
    "    J[1] = exp(-VU[1]*VU[1])/sqrt(pi)\n",
    "    WU[0,0] = WU[0,0] + eps * E[0] * J[0] * X[0] / VS[0]\n",
    "    WU[0,1] = WU[0,1] + eps * E[0] * J[0] * X[1] / VS[0]\n",
    "    WU[1,0] = WU[1,0] + eps * E[1] * J[1] * X[0] / VS[1]\n",
    "    WU[1,1] = WU[1,1] + eps * E[1] * J[1] * X[1] / VS[1]\n",
    "    BU[0] = BU[0] + eps * E[0] * J[0] / VS[0]\n",
    "    BU[1] = BU[1] + eps * E[1] * J[1] / VS[1]\n",
    "#    WS[0,0] = WS[0,0] + eps * E[0] * J[0] * 2 * WS[0,0] * X[0] * X[0] * VU[0] / VV[0] / VS[0]\n",
    "#    WS[0,1] = WS[0,1] + eps * E[0] * J[0] * 2 * WS[0,1] * X[1] * X[1] * VU[0] / VV[0] / VS[0]\n",
    "#    WS[1,0] = WS[1,0] + eps * E[1] * J[1] * 2 * WS[1,0] * X[0] * X[0] * VU[1] / VV[1] / VS[1]\n",
    "#    WS[1,1] = WS[1,1] + eps * E[1] * J[1] * 2 * WS[1,1] * X[1] * X[1] * VU[1] / VV[1] / VS[1]   \n",
    "#    BS[0]   = BS[0]   - eps * E[0] * J[0] * BS[0] * VU[0] / VV[0] / VS[0]\n",
    "#    BS[1]   = BS[1]   - eps * E[1] * J[1] * BS[1] * VU[1] / VV[1] / VS[1]\n",
    "    \n",
    "    err.append(dot(E.T, E)[0])\n",
    "\n",
    "display(WU,BU,WS,BS)\n",
    "X = I[0]\n",
    "VU = dot(WU,    X   )+BU\n",
    "VV = dot(WS**2, X**2)+BS**2\n",
    "VS = sqrt(VV)\n",
    "F = 0.5 + 0.5 * erf(-VU/VS)\n",
    "display(F)\n",
    "X = I[1]\n",
    "VU = dot(WU,    X   )+BU\n",
    "VV = dot(WS**2, X**2)+BS**2\n",
    "VS = sqrt(VV)\n",
    "F = 0.5 + 0.5 * erf(-VU/VS)\n",
    "display(F)\n",
    "plot(err)"
   ]
  },
  {
   "cell_type": "code",
   "execution_count": 536,
   "metadata": {
    "collapsed": false
   },
   "outputs": [
    {
     "data": {
      "image/png": "[encoded data removed]",
      "text/latex": [
       "$$0$$"
      ],
      "text/plain": [
       "0"
      ]
     },
     "metadata": {},
     "output_type": "display_data"
    },
    {
     "data": {
      "text/plain": [
       "array([[ 0.,  0.,  0.,  0.]])"
      ]
     },
     "metadata": {},
     "output_type": "display_data"
    },
    {
     "data": {
      "text/plain": [
       "array([[  1.18156534e-03,   7.15182110e-06,   1.62937991e-03,\n",
       "          3.16096659e-03]])"
      ]
     },
     "metadata": {},
     "output_type": "display_data"
    },
    {
     "data": {
      "image/png": "[encoded data removed]",
      "text/latex": [
       "$$1$$"
      ],
      "text/plain": [
       "1"
      ]
     },
     "metadata": {},
     "output_type": "display_data"
    },
    {
     "data": {
      "text/plain": [
       "array([[ 0.,  0.,  0.,  1.]])"
      ]
     },
     "metadata": {},
     "output_type": "display_data"
    },
    {
     "data": {
      "text/plain": [
       "array([[  8.73043735e-04,   1.12078431e-02,   5.86480916e-07,\n",
       "          9.38532307e-01]])"
      ]
     },
     "metadata": {},
     "output_type": "display_data"
    },
    {
     "data": {
      "image/png": "[encoded data removed]",
      "text/latex": [
       "$$2$$"
      ],
      "text/plain": [
       "2"
      ]
     },
     "metadata": {},
     "output_type": "display_data"
    },
    {
     "data": {
      "text/plain": [
       "array([[ 0.,  0.,  1.,  0.]])"
      ]
     },
     "metadata": {},
     "output_type": "display_data"
    },
    {
     "data": {
      "text/plain": [
       "array([[  1.16117710e-03,   1.01555150e-02,   9.30902176e-01,\n",
       "          2.84986666e-07]])"
      ]
     },
     "metadata": {},
     "output_type": "display_data"
    },
    {
     "data": {
      "image/png": "[encoded data removed]",
      "text/latex": [
       "$$3$$"
      ],
      "text/plain": [
       "3"
      ]
     },
     "metadata": {},
     "output_type": "display_data"
    },
    {
     "data": {
      "text/plain": [
       "array([[ 0.,  0.,  1.,  1.]])"
      ]
     },
     "metadata": {},
     "output_type": "display_data"
    },
    {
     "data": {
      "text/plain": [
       "array([[  8.11783656e-04,   9.40980328e-01,   4.54370335e-03,\n",
       "          2.93959724e-03]])"
      ]
     },
     "metadata": {},
     "output_type": "display_data"
    },
    {
     "data": {
      "image/png": "[encoded data removed]",
      "text/latex": [
       "$$4$$"
      ],
      "text/plain": [
       "4"
      ]
     },
     "metadata": {},
     "output_type": "display_data"
    },
    {
     "data": {
      "text/plain": [
       "array([[ 0.,  1.,  0.,  0.]])"
      ]
     },
     "metadata": {},
     "output_type": "display_data"
    },
    {
     "data": {
      "text/plain": [
       "array([[  9.60839608e-01,   1.02841076e-04,   5.99106582e-04,\n",
       "          5.86312849e-04]])"
      ]
     },
     "metadata": {},
     "output_type": "display_data"
    },
    {
     "data": {
      "text/plain": [
       "[<matplotlib.lines.Line2D at 0x1aac7e510>]"
      ]
     },
     "execution_count": 536,
     "metadata": {},
     "output_type": "execute_result"
    },
    {
     "data": {
      "image/png": "[encoded data removed]",
      "text/plain": [
       "<matplotlib.figure.Figure at 0x1a766f750>"
      ]
     },
     "metadata": {},
     "output_type": "display_data"
    }
   ],
   "source": [
    "#角層クロスエントロピー\n",
    "%matplotlib inline\n",
    "from IPython.display import display\n",
    "from matplotlib.pylab import *\n",
    "I=map(lambda v:transpose(array([v],dtype='float64')),[[0,0,0,0],[0,0,0,1],[0,0,1,0],[0,0,1,1],[0,1,0,0]])\n",
    "O=map(lambda v:transpose(array([v],dtype='float64')),[[0,0,0,0],[0,0,0,1],[0,0,1,0],[0,1,0,0],[1,0,0,0]])\n",
    "HB=normal(0, 0.1, (16, 1))\n",
    "HW=normal(0, 0.1, (16, 4))\n",
    "OB=normal(0, 0.1, (4,  1))\n",
    "OW=normal(0, 0.1, (4, 16))\n",
    "\n",
    "eps = 0.001\n",
    "k = 0\n",
    "r = 8\n",
    "err = []\n",
    "for idx in range(2**12):\n",
    "    k = idx % 5\n",
    "    Ik = I[k]\n",
    "    Ok = O[k]\n",
    "    HO = (0.5 + 0.5 * tanh(r*(dot(HW, Ik)+HB)))# > uniform(0, 1, (16, 1))\n",
    "    OO = (0.5 + 0.5 * tanh(r*(dot(OW, HO)+OB)))# > uniform(0, 1, (4, 1))\n",
    "\n",
    "    E = Ok - OO\n",
    "    err.append(E.T.dot(E)[0])\n",
    "\n",
    "    #O update\n",
    "    E = Ok - OO\n",
    "    C = (Ok)/(OO) - (1-Ok)/(1-OO)\n",
    "    DB = r * ( 1 - OO * OO ) * E\n",
    "    DB[isnan(DB)] = 0\n",
    "    DX = 0.5 + 0.5 * tanh(r * dot(transpose(OW), Ok))\n",
    "    \n",
    "    DW = dot(DB, transpose(HO))\n",
    "    OW = OW + eps * DW\n",
    "    OB = OB + eps * DB\n",
    "\n",
    "    #H update\n",
    "    E = DX - HO\n",
    "    C = (DX)/(HO) - (1-DX)/(1-HO)\n",
    "    DB = r * ( 1 - HO * HO ) * C\n",
    "    DB[isnan(DB)] = 0\n",
    "    DX = dot(transpose(HW), DB)\n",
    "    \n",
    "    DW = dot(DB, transpose(Ik))\n",
    "    HW = HW + eps * DW\n",
    "    HB = HB + eps * DB\n",
    "\n",
    "for k in range(5):\n",
    "    Ik = I[k]\n",
    "    Ok = O[k]\n",
    "    HO = 0.5 + 0.5 * tanh(r*(dot(HW, Ik)+HB))\n",
    "    OO = 0.5 + 0.5 * tanh(r*(dot(OW, HO)+OB))\n",
    "    display(k, Ik.T, OO.T)\n",
    "\n",
    "plot(log(err))"
   ]
  },
  {
   "cell_type": "code",
   "execution_count": 219,
   "metadata": {
    "collapsed": false
   },
   "outputs": [
    {
     "data": {
      "text/plain": [
       "0"
      ]
     },
     "metadata": {},
     "output_type": "display_data"
    },
    {
     "data": {
      "text/plain": [
       "array([[0, 0, 0, 0]])"
      ]
     },
     "metadata": {},
     "output_type": "display_data"
    },
    {
     "data": {
      "text/plain": [
       "array([[  5.56286965e-03,   9.99999509e-01,   9.99934829e-01,\n",
       "          8.83737528e-14]])"
      ]
     },
     "metadata": {},
     "output_type": "display_data"
    },
    {
     "data": {
      "text/plain": [
       "1"
      ]
     },
     "metadata": {},
     "output_type": "display_data"
    },
    {
     "data": {
      "text/plain": [
       "array([[0, 0, 0, 1]])"
      ]
     },
     "metadata": {},
     "output_type": "display_data"
    },
    {
     "data": {
      "text/plain": [
       "array([[  3.88578059e-16,   1.00000000e+00,   5.55111512e-17,\n",
       "          9.99999377e-01]])"
      ]
     },
     "metadata": {},
     "output_type": "display_data"
    },
    {
     "data": {
      "text/plain": [
       "2"
      ]
     },
     "metadata": {},
     "output_type": "display_data"
    },
    {
     "data": {
      "text/plain": [
       "array([[0, 0, 1, 0]])"
      ]
     },
     "metadata": {},
     "output_type": "display_data"
    },
    {
     "data": {
      "text/plain": [
       "array([[  5.37700000e-06,   8.91843786e-01,   1.00000000e+00,\n",
       "          3.88578059e-16]])"
      ]
     },
     "metadata": {},
     "output_type": "display_data"
    },
    {
     "data": {
      "text/plain": [
       "3"
      ]
     },
     "metadata": {},
     "output_type": "display_data"
    },
    {
     "data": {
      "text/plain": [
       "array([[0, 0, 1, 1]])"
      ]
     },
     "metadata": {},
     "output_type": "display_data"
    },
    {
     "data": {
      "text/plain": [
       "array([[  1.68753900e-14,   1.00000000e+00,   4.23594493e-12,\n",
       "          7.29975889e-04]])"
      ]
     },
     "metadata": {},
     "output_type": "display_data"
    },
    {
     "data": {
      "text/plain": [
       "4"
      ]
     },
     "metadata": {},
     "output_type": "display_data"
    },
    {
     "data": {
      "text/plain": [
       "array([[0, 1, 0, 0]])"
      ]
     },
     "metadata": {},
     "output_type": "display_data"
    },
    {
     "data": {
      "text/plain": [
       "array([[  1.00000000e+00,   0.00000000e+00,   0.00000000e+00,\n",
       "          1.67699188e-13]])"
      ]
     },
     "metadata": {},
     "output_type": "display_data"
    },
    {
     "data": {
      "text/plain": [
       "[<matplotlib.lines.Line2D at 0x15d8997d0>]"
      ]
     },
     "execution_count": 219,
     "metadata": {},
     "output_type": "execute_result"
    },
    {
     "data": {
      "image/png": "[encoded data removed]",
      "text/plain": [
       "<matplotlib.figure.Figure at 0x15774e610>"
      ]
     },
     "metadata": {},
     "output_type": "display_data"
    }
   ],
   "source": [
    "#角層最急降下法\n",
    "%matplotlib inline\n",
    "from IPython.display import display\n",
    "from matplotlib.pylab import *\n",
    "I=map(lambda v:transpose(array([v])),[[0,0,0,0],[0,0,0,1],[0,0,1,0],[0,0,1,1],[0,1,0,0]])\n",
    "O=map(lambda v:transpose(array([v])),[[0,0,0,0],[0,0,0,1],[0,0,1,0],[0,1,0,0],[1,0,0,0]])\n",
    "HB=normal(0, 1, (16, 1))\n",
    "HW=normal(0, 1, (16, 4))\n",
    "OB=normal(0, 1, (4,  1))\n",
    "OW=normal(0, 1, (4, 16))\n",
    "\n",
    "eps = 0.05\n",
    "k = 0\n",
    "r = 8\n",
    "err = []\n",
    "for idx in range(2**16):\n",
    "    k = idx % 5\n",
    "    Ik = I[k]\n",
    "    Ok = O[k]\n",
    "    HO = (0.5 + 0.5 * tanh(r*(dot(HW, Ik)+HB)))# > uniform(0, 1, (16, 1))\n",
    "    OO = (0.5 + 0.5 * tanh(r*(dot(OW, HO)+OB)))# > uniform(0, 1, (4, 1))\n",
    "\n",
    "    E = Ok - OO\n",
    "    err.append(E.T.dot(E)[0])\n",
    "\n",
    "    #O update\n",
    "    DB = r * ( 1 - OO * OO ) * ( Ok - OO )\n",
    "    DX = dot(transpose(OW), Ok)\n",
    "    \n",
    "    OW = OW + eps * dot(DB, transpose(HO))\n",
    "    OB = OB + eps * DB\n",
    "\n",
    "    #H update\n",
    "    DB = r * ( 1 - HO * HO ) * ( DX - HO )\n",
    "    DX = dot(transpose(HW), DB)\n",
    "    \n",
    "    DW = dot(DB, transpose(Ik))\n",
    "    HW = HW + eps * DW\n",
    "    HB = HB + eps * DB\n",
    "\n",
    "for k in range(5):\n",
    "    Ik = I[k]\n",
    "    Ok = O[k]\n",
    "    HO = 0.5 + 0.5 * tanh(r*(dot(HW, Ik)+HB))\n",
    "    OO = 0.5 + 0.5 * tanh(r*(dot(OW, HO)+OB))\n",
    "    display(k, Ik.T, OO.T)\n",
    "\n",
    "plot(log(err))"
   ]
  },
  {
   "cell_type": "code",
   "execution_count": 257,
   "metadata": {
    "collapsed": false
   },
   "outputs": [
    {
     "data": {
      "text/plain": [
       "0"
      ]
     },
     "metadata": {},
     "output_type": "display_data"
    },
    {
     "data": {
      "text/plain": [
       "array([[0, 0, 0, 0]])"
      ]
     },
     "metadata": {},
     "output_type": "display_data"
    },
    {
     "data": {
      "text/plain": [
       "array([[  3.86025784e-09,   0.00000000e+00,   3.17650951e-08,\n",
       "          2.58843008e-09]])"
      ]
     },
     "metadata": {},
     "output_type": "display_data"
    },
    {
     "data": {
      "text/plain": [
       "1"
      ]
     },
     "metadata": {},
     "output_type": "display_data"
    },
    {
     "data": {
      "text/plain": [
       "array([[0, 0, 0, 1]])"
      ]
     },
     "metadata": {},
     "output_type": "display_data"
    },
    {
     "data": {
      "text/plain": [
       "array([[  1.39200062e-06,   2.17866038e-04,   0.00000000e+00,\n",
       "          9.83591835e-01]])"
      ]
     },
     "metadata": {},
     "output_type": "display_data"
    },
    {
     "data": {
      "text/plain": [
       "2"
      ]
     },
     "metadata": {},
     "output_type": "display_data"
    },
    {
     "data": {
      "text/plain": [
       "array([[0, 0, 1, 0]])"
      ]
     },
     "metadata": {},
     "output_type": "display_data"
    },
    {
     "data": {
      "text/plain": [
       "array([[  2.54796184e-14,   2.90286239e-10,   9.99996296e-01,\n",
       "          0.00000000e+00]])"
      ]
     },
     "metadata": {},
     "output_type": "display_data"
    },
    {
     "data": {
      "text/plain": [
       "3"
      ]
     },
     "metadata": {},
     "output_type": "display_data"
    },
    {
     "data": {
      "text/plain": [
       "array([[0, 0, 1, 1]])"
      ]
     },
     "metadata": {},
     "output_type": "display_data"
    },
    {
     "data": {
      "text/plain": [
       "array([[  1.16173583e-05,   9.88799466e-01,   1.87627691e-14,\n",
       "          4.62872728e-04]])"
      ]
     },
     "metadata": {},
     "output_type": "display_data"
    },
    {
     "data": {
      "text/plain": [
       "4"
      ]
     },
     "metadata": {},
     "output_type": "display_data"
    },
    {
     "data": {
      "text/plain": [
       "array([[0, 1, 0, 0]])"
      ]
     },
     "metadata": {},
     "output_type": "display_data"
    },
    {
     "data": {
      "text/plain": [
       "array([[  9.96414485e-01,   3.49154039e-12,   6.83682873e-08,\n",
       "          4.48720050e-09]])"
      ]
     },
     "metadata": {},
     "output_type": "display_data"
    },
    {
     "data": {
      "text/plain": [
       "[<matplotlib.lines.Line2D at 0x165be8810>]"
      ]
     },
     "execution_count": 257,
     "metadata": {},
     "output_type": "execute_result"
    },
    {
     "data": {
      "image/png": "[encoded data removed]",
      "text/plain": [
       "<matplotlib.figure.Figure at 0x16523ebd0>"
      ]
     },
     "metadata": {},
     "output_type": "display_data"
    }
   ],
   "source": [
    "#ただの最急降下法\n",
    "%matplotlib inline\n",
    "from IPython.display import display\n",
    "from matplotlib.pylab import *\n",
    "I=map(lambda v:transpose(array([v])),[[0,0,0,0],[0,0,0,1],[0,0,1,0],[0,0,1,1],[0,1,0,0]])\n",
    "O=map(lambda v:transpose(array([v])),[[0,0,0,0],[0,0,0,1],[0,0,1,0],[0,1,0,0],[1,0,0,0]])\n",
    "HB=normal(0, 1, (16, 1))\n",
    "HW=normal(0, 1, (16, 4))\n",
    "OB=normal(0, 1, (4,  1))\n",
    "OW=normal(0, 1, (4, 16))\n",
    "\n",
    "eps = 0.01\n",
    "k = 0\n",
    "r = 8\n",
    "err = []\n",
    "for idx in range(2**16):\n",
    "    k = idx % 5\n",
    "    Ik = I[k]\n",
    "    Ok = O[k]\n",
    "    HO = (0.5 + 0.5 * tanh(r*(dot(HW, Ik)+HB)))# > uniform(0, 1, (16, 1))\n",
    "    OO = (0.5 + 0.5 * tanh(r*(dot(OW, HO)+OB)))# > uniform(0, 1, (4, 1))\n",
    "\n",
    "    DX = Ok - OO\n",
    "    E = Ok - OO\n",
    "    err.append(E.T.dot(E)[0])\n",
    "\n",
    "    #O update\n",
    "    DB = DX * r * (1 - OO * OO)\n",
    "    DX = dot(transpose(OW), DB)\n",
    "    \n",
    "    OW = OW + eps * dot(DB, transpose(HO))\n",
    "    OB = OB + eps * DB\n",
    "\n",
    "    #H update\n",
    "    DB = DX * r * (1 - HO * HO)\n",
    "    DX = dot(transpose(HW), DB)\n",
    "    \n",
    "    DW = dot(DB, transpose(Ik))\n",
    "    HW = HW + eps * DW\n",
    "    HB = HB + eps * DB\n",
    "\n",
    "for k in range(5):\n",
    "    Ik = I[k]\n",
    "    Ok = O[k]\n",
    "    HO = 0.5 + 0.5 * tanh(r*(dot(HW, Ik)+HB))\n",
    "    OO = 0.5 + 0.5 * tanh(r*(dot(OW, HO)+OB))\n",
    "    display(k, Ik.T, OO.T)\n",
    "    \n",
    "plot(log(err))"
   ]
  },
  {
   "cell_type": "code",
   "execution_count": 325,
   "metadata": {
    "collapsed": false
   },
   "outputs": [
    {
     "data": {
      "text/plain": [
       "3.9694962053380296"
      ]
     },
     "metadata": {},
     "output_type": "display_data"
    },
    {
     "data": {
      "text/plain": [
       "24.740857629454453"
      ]
     },
     "metadata": {},
     "output_type": "display_data"
    }
   ],
   "source": [
    "A = normal(1,3,2**16)\n",
    "B = normal(3,4,2**16)\n",
    "display(mean(A+B),var(A+B))"
   ]
  }
 ],
 "metadata": {
  "kernelspec": {
   "display_name": "Python 2",
   "language": "python",
   "name": "python2"
  },
  "language_info": {
   "codemirror_mode": {
    "name": "ipython",
    "version": 2
   },
   "file_extension": ".py",
   "mimetype": "text/x-python",
   "name": "python",
   "nbconvert_exporter": "python",
   "pygments_lexer": "ipython2",
   "version": "2.7.10"
  }
 },
 "nbformat": 4,
 "nbformat_minor": 0
}
