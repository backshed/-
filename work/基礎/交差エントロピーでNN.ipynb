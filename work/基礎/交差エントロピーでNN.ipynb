{
 "cells": [
  {
   "cell_type": "code",
   "execution_count": 15,
   "metadata": {
    "collapsed": false
   },
   "outputs": [
    {
     "name": "stderr",
     "output_type": "stream",
     "text": [
      "/Users/Kota/Library/Python/2.7/lib/python/site-packages/ipykernel/__main__.py:22: RuntimeWarning: divide by zero encountered in log\n",
      "/Users/Kota/Library/Python/2.7/lib/python/site-packages/ipykernel/__main__.py:22: RuntimeWarning: invalid value encountered in multiply\n"
     ]
    },
    {
     "data": {
      "text/plain": [
       "0"
      ]
     },
     "metadata": {},
     "output_type": "display_data"
    },
    {
     "data": {
      "text/plain": [
       "array([[0],\n",
       "       [0],\n",
       "       [0],\n",
       "       [0]])"
      ]
     },
     "metadata": {},
     "output_type": "display_data"
    },
    {
     "data": {
      "text/plain": [
       "array([[ nan],\n",
       "       [ nan],\n",
       "       [ nan],\n",
       "       [ nan]])"
      ]
     },
     "metadata": {},
     "output_type": "display_data"
    },
    {
     "data": {
      "text/plain": [
       "1"
      ]
     },
     "metadata": {},
     "output_type": "display_data"
    },
    {
     "data": {
      "text/plain": [
       "array([[0],\n",
       "       [0],\n",
       "       [0],\n",
       "       [1]])"
      ]
     },
     "metadata": {},
     "output_type": "display_data"
    },
    {
     "data": {
      "text/plain": [
       "array([[ nan],\n",
       "       [ nan],\n",
       "       [ nan],\n",
       "       [ nan]])"
      ]
     },
     "metadata": {},
     "output_type": "display_data"
    },
    {
     "data": {
      "text/plain": [
       "2"
      ]
     },
     "metadata": {},
     "output_type": "display_data"
    },
    {
     "data": {
      "text/plain": [
       "array([[0],\n",
       "       [0],\n",
       "       [1],\n",
       "       [0]])"
      ]
     },
     "metadata": {},
     "output_type": "display_data"
    },
    {
     "data": {
      "text/plain": [
       "array([[ nan],\n",
       "       [ nan],\n",
       "       [ nan],\n",
       "       [ nan]])"
      ]
     },
     "metadata": {},
     "output_type": "display_data"
    },
    {
     "data": {
      "text/plain": [
       "3"
      ]
     },
     "metadata": {},
     "output_type": "display_data"
    },
    {
     "data": {
      "text/plain": [
       "array([[0],\n",
       "       [0],\n",
       "       [1],\n",
       "       [1]])"
      ]
     },
     "metadata": {},
     "output_type": "display_data"
    },
    {
     "data": {
      "text/plain": [
       "array([[ nan],\n",
       "       [ nan],\n",
       "       [ nan],\n",
       "       [ nan]])"
      ]
     },
     "metadata": {},
     "output_type": "display_data"
    },
    {
     "data": {
      "text/plain": [
       "4"
      ]
     },
     "metadata": {},
     "output_type": "display_data"
    },
    {
     "data": {
      "text/plain": [
       "array([[0],\n",
       "       [1],\n",
       "       [0],\n",
       "       [0]])"
      ]
     },
     "metadata": {},
     "output_type": "display_data"
    },
    {
     "data": {
      "text/plain": [
       "array([[ nan],\n",
       "       [ nan],\n",
       "       [ nan],\n",
       "       [ nan]])"
      ]
     },
     "metadata": {},
     "output_type": "display_data"
    }
   ],
   "source": [
    "#ただの最急降下法\n",
    "%matplotlib inline\n",
    "from IPython.display import display\n",
    "from matplotlib.pylab import *\n",
    "I=map(lambda v:transpose(array([v])),[[0,0,0,0],[0,0,0,1],[0,0,1,0],[0,0,1,1],[0,1,0,0]])\n",
    "O=map(lambda v:transpose(array([v])),[[0,0,0,0],[0,0,0,1],[0,0,1,0],[0,1,0,0],[1,0,0,0]])\n",
    "HB=normal(0, 0.1, (16, 1))\n",
    "HW=normal(0, 0.1, (16, 4))\n",
    "OB=normal(0, 0.1, (4,  1))\n",
    "OW=normal(0, 0.1, (4, 16))\n",
    "\n",
    "eps = 0.001\n",
    "k = 0\n",
    "r = 8\n",
    "for idx in range(16384):\n",
    "    k = idx % 5\n",
    "    Ik = I[k]\n",
    "    Ok = O[k]\n",
    "    HO = (0.5 + 0.5 * tanh(r*(dot(HW, Ik)+HB)))# > uniform(0, 1, (16, 1))\n",
    "    OO = (0.5 + 0.5 * tanh(r*(dot(OW, HO)+OB)))# > uniform(0, 1, (4, 1))\n",
    "\n",
    "    DX = (Ok)*log(OO)+(1-Ok)*log(1-OO)\n",
    "    if isnan()\n",
    "\n",
    "    #O update\n",
    "    DB = DX * r * (1 - OO * OO)\n",
    "    DX = dot(transpose(OW), DB)\n",
    "    \n",
    "    OW = OW + eps * dot(DB, transpose(HO))\n",
    "    OB = OB + eps * DB\n",
    "\n",
    "    #H update\n",
    "    DB = DX * r * (1 - HO * HO)\n",
    "    DX = dot(transpose(HW), DB)\n",
    "    \n",
    "    DW = dot(DB, transpose(Ik))\n",
    "    HW = HW + eps * DW\n",
    "    HB = HB + eps * DB\n",
    "\n",
    "for k in range(5):\n",
    "    Ik = I[k]\n",
    "    Ok = O[k]\n",
    "    HO = 0.5 + 0.5 * tanh(r*(dot(HW, Ik)+HB))\n",
    "    OO = 0.5 + 0.5 * tanh(r*(dot(OW, HO)+OB))\n",
    "    display(k, Ik, OO)"
   ]
  },
  {
   "cell_type": "code",
   "execution_count": 5,
   "metadata": {
    "collapsed": false
   },
   "outputs": [
    {
     "data": {
      "text/plain": [
       "0"
      ]
     },
     "metadata": {},
     "output_type": "display_data"
    },
    {
     "data": {
      "text/plain": [
       "array([[0],\n",
       "       [0],\n",
       "       [0],\n",
       "       [0]])"
      ]
     },
     "metadata": {},
     "output_type": "display_data"
    },
    {
     "data": {
      "text/plain": [
       "array([[  1.30265526e-03],\n",
       "       [  2.97930680e-10],\n",
       "       [  7.45810044e-04],\n",
       "       [  2.03396186e-03]])"
      ]
     },
     "metadata": {},
     "output_type": "display_data"
    },
    {
     "data": {
      "text/plain": [
       "1"
      ]
     },
     "metadata": {},
     "output_type": "display_data"
    },
    {
     "data": {
      "text/plain": [
       "array([[0],\n",
       "       [0],\n",
       "       [0],\n",
       "       [1]])"
      ]
     },
     "metadata": {},
     "output_type": "display_data"
    },
    {
     "data": {
      "text/plain": [
       "array([[  3.72431503e-04],\n",
       "       [  1.51365831e-02],\n",
       "       [  6.21045228e-05],\n",
       "       [  9.23536393e-01]])"
      ]
     },
     "metadata": {},
     "output_type": "display_data"
    },
    {
     "data": {
      "text/plain": [
       "2"
      ]
     },
     "metadata": {},
     "output_type": "display_data"
    },
    {
     "data": {
      "text/plain": [
       "array([[0],\n",
       "       [0],\n",
       "       [1],\n",
       "       [0]])"
      ]
     },
     "metadata": {},
     "output_type": "display_data"
    },
    {
     "data": {
      "text/plain": [
       "array([[  4.46318024e-05],\n",
       "       [  1.02045412e-02],\n",
       "       [  9.36326960e-01],\n",
       "       [  3.07030507e-04]])"
      ]
     },
     "metadata": {},
     "output_type": "display_data"
    },
    {
     "data": {
      "text/plain": [
       "3"
      ]
     },
     "metadata": {},
     "output_type": "display_data"
    },
    {
     "data": {
      "text/plain": [
       "array([[0],\n",
       "       [0],\n",
       "       [1],\n",
       "       [1]])"
      ]
     },
     "metadata": {},
     "output_type": "display_data"
    },
    {
     "data": {
      "text/plain": [
       "array([[  2.52654621e-04],\n",
       "       [  8.98647067e-01],\n",
       "       [  6.51097948e-03],\n",
       "       [  8.42181098e-03]])"
      ]
     },
     "metadata": {},
     "output_type": "display_data"
    },
    {
     "data": {
      "text/plain": [
       "4"
      ]
     },
     "metadata": {},
     "output_type": "display_data"
    },
    {
     "data": {
      "text/plain": [
       "array([[0],\n",
       "       [1],\n",
       "       [0],\n",
       "       [0]])"
      ]
     },
     "metadata": {},
     "output_type": "display_data"
    },
    {
     "data": {
      "text/plain": [
       "array([[  9.75138173e-01],\n",
       "       [  1.95926608e-12],\n",
       "       [  8.78532134e-04],\n",
       "       [  4.62743920e-04]])"
      ]
     },
     "metadata": {},
     "output_type": "display_data"
    }
   ],
   "source": [
    "#ただの最急降下法\n",
    "%matplotlib inline\n",
    "from IPython.display import display\n",
    "from matplotlib.pylab import *\n",
    "I=map(lambda v:transpose(array([v])),[[0,0,0,0],[0,0,0,1],[0,0,1,0],[0,0,1,1],[0,1,0,0]])\n",
    "O=map(lambda v:transpose(array([v])),[[0,0,0,0],[0,0,0,1],[0,0,1,0],[0,1,0,0],[1,0,0,0]])\n",
    "HB=normal(0, 0.1, (16, 1))\n",
    "HW=normal(0, 0.1, (16, 4))\n",
    "OB=normal(0, 0.1, (4,  1))\n",
    "OW=normal(0, 0.1, (4, 16))\n",
    "\n",
    "eps = 0.001\n",
    "k = 0\n",
    "r = 8\n",
    "for idx in range(16384):\n",
    "    k = idx % 5\n",
    "    Ik = I[k]\n",
    "    Ok = O[k]\n",
    "    HO = (0.5 + 0.5 * tanh(r*(dot(HW, Ik)+HB)))# > uniform(0, 1, (16, 1))\n",
    "    OO = (0.5 + 0.5 * tanh(r*(dot(OW, HO)+OB)))# > uniform(0, 1, (4, 1))\n",
    "\n",
    "    DX = Ok - OO\n",
    "\n",
    "    #O update\n",
    "    DB = DX * r * (1 - OO * OO)\n",
    "    DX = dot(transpose(OW), DB)\n",
    "    \n",
    "    OW = OW + eps * dot(DB, transpose(HO))\n",
    "    OB = OB + eps * DB\n",
    "\n",
    "    #H update\n",
    "    DB = DX * r * (1 - HO * HO)\n",
    "    DX = dot(transpose(HW), DB)\n",
    "    \n",
    "    DW = dot(DB, transpose(Ik))\n",
    "    HW = HW + eps * DW\n",
    "    HB = HB + eps * DB\n",
    "\n",
    "for k in range(5):\n",
    "    Ik = I[k]\n",
    "    Ok = O[k]\n",
    "    HO = 0.5 + 0.5 * tanh(r*(dot(HW, Ik)+HB))\n",
    "    OO = 0.5 + 0.5 * tanh(r*(dot(OW, HO)+OB))\n",
    "    display(k, Ik, OO)"
   ]
  }
 ],
 "metadata": {
  "kernelspec": {
   "display_name": "Python 2",
   "language": "python",
   "name": "python2"
  },
  "language_info": {
   "codemirror_mode": {
    "name": "ipython",
    "version": 2
   },
   "file_extension": ".py",
   "mimetype": "text/x-python",
   "name": "python",
   "nbconvert_exporter": "python",
   "pygments_lexer": "ipython2",
   "version": "2.7.10"
  }
 },
 "nbformat": 4,
 "nbformat_minor": 0
}
