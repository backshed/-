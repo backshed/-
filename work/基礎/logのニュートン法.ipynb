{
 "cells": [
  {
   "cell_type": "code",
   "execution_count": 25,
   "metadata": {
    "collapsed": false
   },
   "outputs": [
    {
     "data": {
      "text/plain": [
       "[<matplotlib.lines.Line2D at 0x1128dfb50>]"
      ]
     },
     "execution_count": 25,
     "metadata": {},
     "output_type": "execute_result"
    },
    {
     "data": {
      "image/png": "[encoded data removed]",
      "text/plain": [
       "<matplotlib.figure.Figure at 0x112091310>"
      ]
     },
     "metadata": {},
     "output_type": "display_data"
    }
   ],
   "source": [
    "%matplotlib inline\n",
    "from IPython.display import display\n",
    "from matplotlib.pylab import *\n",
    "\n",
    "m = array([1, 2],dtype='float64')\n",
    "e = array([3, 3],dtype='float64')\n",
    "Y = []\n",
    "for _ in range(10):\n",
    "    x = 3 * e[0] * e[0] + 4 * e[1]\n",
    "    y = log(x)\n",
    "    Y.append(y)\n",
    "    J = array([3/x, 4/x],dtype='float64')\n",
    "    H = array([[-9/x/x, -12/x/x],[-12/x/x,-16/x/x]],dtype='float64')\n",
    "    U,s,V = svd(H)\n",
    "    s = map(lambda x:1/x if x > 0 else 0, s)\n",
    "    e = e + V.T.dot(diag(s)).dot(U.T).dot(-J) * 0.1\n",
    "\n",
    "plot(Y)"
   ]
  }
 ],
 "metadata": {
  "kernelspec": {
   "display_name": "Python 2",
   "language": "python",
   "name": "python2"
  },
  "language_info": {
   "codemirror_mode": {
    "name": "ipython",
    "version": 2
   },
   "file_extension": ".py",
   "mimetype": "text/x-python",
   "name": "python",
   "nbconvert_exporter": "python",
   "pygments_lexer": "ipython2",
   "version": "2.7.10"
  }
 },
 "nbformat": 4,
 "nbformat_minor": 0
}
