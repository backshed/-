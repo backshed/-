{
 "cells": [
  {
   "cell_type": "code",
   "execution_count": 1,
   "metadata": {
    "collapsed": false
   },
   "outputs": [
    {
     "data": {
      "image/png": "[encoded data removed]",
      "text/latex": [
       "$$\\frac{0.25 \\sqrt{2} \\left(\\mu_{a} x + \\mu_{b}\\right) e^{\\sigma_{b}}}{x^{2} e^{\\sigma_{a}} + e^{\\sigma_{b}}}$$"
      ],
      "text/plain": [
       "                      σ_b\n",
       "0.25⋅√2⋅(μₐ⋅x + μ_b)⋅ℯ   \n",
       "─────────────────────────\n",
       "       2  σₐ    σ_b      \n",
       "      x ⋅ℯ   + ℯ         "
      ]
     },
     "metadata": {},
     "output_type": "display_data"
    }
   ],
   "source": [
    "#プロトタイプ\n",
    "%matplotlib inline\n",
    "from IPython.display import display\n",
    "from sympy import *\n",
    "init_printing()\n",
    "y,x,ua,ub,sa,sb,x,d = symbols('y,x,mu_a,mu_b,sigma_a,sigma_b,x,d')\n",
    "f = 0.5 + 0.5 * erf((ua*x+ub)/sqrt(exp(sa)*x*x+exp(sb))/sqrt(2))\n",
    "p = -exp(-(ua*x+ub)**2/(exp(sa)*x*x+exp(sb))/2)/sqrt(pi)/sqrt(exp(sa)*x*x+exp(sb))\n",
    "display(simplify(diff(f,sb)/p))"
   ]
  },
  {
   "cell_type": "code",
   "execution_count": 521,
   "metadata": {
    "collapsed": false,
    "scrolled": false
   },
   "outputs": [
    {
     "data": {
      "text/plain": [
       "40955"
      ]
     },
     "metadata": {},
     "output_type": "display_data"
    },
    {
     "data": {
      "text/plain": [
       "array([[ 0.,  0.,  0.,  0.]])"
      ]
     },
     "metadata": {},
     "output_type": "display_data"
    },
    {
     "data": {
      "text/plain": [
       "array([[  9.03005769e-05,   4.02275989e-05,   2.04428342e-03,\n",
       "          3.37342617e-03]])"
      ]
     },
     "metadata": {},
     "output_type": "display_data"
    },
    {
     "data": {
      "text/plain": [
       "40956"
      ]
     },
     "metadata": {},
     "output_type": "display_data"
    },
    {
     "data": {
      "text/plain": [
       "array([[ 0.,  0.,  0.,  1.]])"
      ]
     },
     "metadata": {},
     "output_type": "display_data"
    },
    {
     "data": {
      "text/plain": [
       "array([[  2.31383056e-05,   1.22575972e-03,   1.54882761e-04,\n",
       "          9.96808841e-01]])"
      ]
     },
     "metadata": {},
     "output_type": "display_data"
    },
    {
     "data": {
      "text/plain": [
       "40957"
      ]
     },
     "metadata": {},
     "output_type": "display_data"
    },
    {
     "data": {
      "text/plain": [
       "array([[ 0.,  0.,  1.,  0.]])"
      ]
     },
     "metadata": {},
     "output_type": "display_data"
    },
    {
     "data": {
      "text/plain": [
       "array([[  1.16930816e-05,   1.56323154e-03,   9.96947193e-01,\n",
       "          2.07555871e-05]])"
      ]
     },
     "metadata": {},
     "output_type": "display_data"
    },
    {
     "data": {
      "text/plain": [
       "40958"
      ]
     },
     "metadata": {},
     "output_type": "display_data"
    },
    {
     "data": {
      "text/plain": [
       "array([[ 0.,  1.,  0.,  0.]])"
      ]
     },
     "metadata": {},
     "output_type": "display_data"
    },
    {
     "data": {
      "text/plain": [
       "array([[  2.31329267e-05,   9.99951048e-01,   4.72174471e-04,\n",
       "          5.68410270e-04]])"
      ]
     },
     "metadata": {},
     "output_type": "display_data"
    },
    {
     "data": {
      "text/plain": [
       "40959"
      ]
     },
     "metadata": {},
     "output_type": "display_data"
    },
    {
     "data": {
      "text/plain": [
       "array([[ 1.,  0.,  0.,  0.]])"
      ]
     },
     "metadata": {},
     "output_type": "display_data"
    },
    {
     "data": {
      "text/plain": [
       "array([[  9.99792045e-01,   7.65762630e-07,   1.34013202e-03,\n",
       "          1.02490822e-03]])"
      ]
     },
     "metadata": {},
     "output_type": "display_data"
    },
    {
     "data": {
      "text/plain": [
       "array([[ 0.99964382,  0.99712323,  0.99295288,  0.9918433 ]])"
      ]
     },
     "metadata": {},
     "output_type": "display_data"
    },
    {
     "data": {
      "text/plain": [
       "[<matplotlib.lines.Line2D at 0x3cd911150>]"
      ]
     },
     "execution_count": 521,
     "metadata": {},
     "output_type": "execute_result"
    },
    {
     "data": {
      "image/png": "[encoded data removed]",
      "text/plain": [
       "<matplotlib.figure.Figure at 0x22aedefd0>"
      ]
     },
     "metadata": {},
     "output_type": "display_data"
    }
   ],
   "source": [
    "#プロトタイプ 3層\n",
    "%matplotlib inline\n",
    "from IPython.display import display\n",
    "from matplotlib.pylab import *\n",
    "from scipy.special import erf, erfc\n",
    "\n",
    "#I=map(lambda v:transpose(array([v],dtype='float64')),[[1,1,1,1],[1,1,1,0],[1,1,0,1],[1,0,1,1],[0,1,1,1]])\n",
    "I=map(lambda v:transpose(array([v],dtype='float64')),[[0,0,0,0],[0,0,0,1],[0,0,1,0],[0,0,1,1],[0,1,0,0]])\n",
    "O=map(lambda v:transpose(array([v],dtype='float64')),[[0,0,0,0],[0,0,0,1],[0,0,1,0],[0,1,0,0],[1,0,0,0]])\n",
    "\n",
    "r = 1 / 16.0\n",
    "err = []\n",
    "eps = 1.0e-240\n",
    "epoch = 5 * ( 2 ** 13 )\n",
    "\n",
    "if False:\n",
    "    HAu = normal(size=(256,4))\n",
    "    HAv = zeros(shape(HAu))\n",
    "\n",
    "    HBu = zeros((256,1))\n",
    "    HBv = zeros(shape(HBu))\n",
    "\n",
    "    GAu = normal(size=(256,256))\n",
    "    GAv = zeros(shape(GAu))\n",
    "    \n",
    "    GBu = zeros((256,1))\n",
    "    GBv = zeros(shape(GBu))\n",
    "    \n",
    "    OAu = normal(size=(4,256))\n",
    "    OAv = zeros(shape(OAu))\n",
    "\n",
    "    OBu = zeros((4,1))\n",
    "    OBv = zeros(shape(OBu))\n",
    "    \n",
    "elif False:\n",
    "    OAv = OAv * 0.9\n",
    "    OBv = OBv * 0.9\n",
    "    GAv *= 0.9\n",
    "    GBv *= 0.9\n",
    "    HAv = HAv * 0.9\n",
    "    HBv = HBv * 0.9\n",
    "    \n",
    "def error(J, T, P, Q):\n",
    "    return J * (T-P)\n",
    "\n",
    "def delta(J, T, P, Q):\n",
    "    A = P\n",
    "    B = Q\n",
    "    C = T\n",
    "    D = (1-T)\n",
    "    E = J*(C/A-D/B)\n",
    "    NG = logical_or(isnan(E), isinf(E))\n",
    "    E[NG] = 0\n",
    "    return E\n",
    "\n",
    "likelyhood = 1\n",
    "for k in range(epoch):\n",
    "    i = k%5#int(uniform(0,5))\n",
    "    X = I[ i ]\n",
    "    Y = O[ i ]\n",
    "    \n",
    "    #H\n",
    "    HX = X\n",
    "    HA = normal(size=shape(HAu))*exp(0.5*HAv)+HAu\n",
    "    HB = normal(size=shape(HBu))*exp(0.5*HBv)+HBu\n",
    "    \n",
    "    HVu = dot(HAu,      HX   ) + HBu\n",
    "    HVv = dot(exp(HAv), HX**2) + exp(HBv)\n",
    "    HVs = sqrt(HVv)\n",
    "    \n",
    "    HF = (0 < dot(HA, HX) + HB)*(1-2*eps) + eps\n",
    "    HP = (0.5-2*eps) * erfc(-(-HVu)/HVs/sqrt(2)) + eps\n",
    "    HQ = (0.5-2*eps) * erfc( (-HVu)/HVs/sqrt(2)) + eps\n",
    "    \n",
    "    #G\n",
    "    GX = HF\n",
    "    GA = normal(size=shape(GAu))*exp(0.5*GAv)+GAu\n",
    "    GB = normal(size=shape(GBu))*exp(0.5*GBv)+GBu\n",
    "    \n",
    "    GVu = dot(GAu,      GX   ) + GBu\n",
    "    GVv = dot(exp(GAv), GX**2) + exp(GBv)\n",
    "    GVs = sqrt(GVv)\n",
    "    \n",
    "    GF = (0 < dot(GA, GX) + GB)*(1-2*eps) + eps\n",
    "    GP = (0.5-2*eps) * erfc(-(-GVu)/GVs/sqrt(2)) + eps\n",
    "    GQ = (0.5-2*eps) * erfc( (-GVu)/GVs/sqrt(2)) + eps\n",
    "    \n",
    "    #O\n",
    "    OX = GF\n",
    "    OA = normal(size=shape(OAu))*exp(0.5*OAv)+OAu\n",
    "    OB = normal(size=shape(OBu))*exp(0.5*OBv)+OBu\n",
    "    \n",
    "    OVu = dot(OAu,      OX   ) + OBu\n",
    "    OVv = dot(exp(OAv), OX**2) + exp(OBv)\n",
    "    OVs = sqrt(OVv)\n",
    "    \n",
    "    OF = (0 < dot(OA, OX) + OB)*(1-eps) + eps\n",
    "    OP = (0.5-2*eps) * erfc(-(-OVu)/OVs/sqrt(2)) + eps\n",
    "    OQ = (0.5-2*eps) * erfc( (-OVu)/OVs/sqrt(2)) + eps\n",
    "\n",
    "    E = Y - OP\n",
    "    \n",
    "    #O\n",
    "    OJ = exp(-(-OVu)**2/OVv/2.0)/sqrt(pi)/OVs/sqrt(2)\n",
    "    OD = OJ * sign(Y-OF)#delta(OJ, Y, OP, OQ)#    OD = OJ * (OY - OF)\n",
    "    \n",
    "    OAu = OAu - r * (OD).dot(OX.T)\n",
    "    OBu = OBu - r * (OD)\n",
    "    OAv = OAv + r * (exp(OAv) * ((OD*OVu/OVv).dot(OX.T**2)))\n",
    "    OBv = OBv + r * (exp(OBv) * ((OD*OVu/OVv)))\n",
    "\n",
    "    #G\n",
    "    GJ = exp(-(-GVu)**2/GVv/2.0)/sqrt(pi)/GVs/sqrt(2)\n",
    "    GD = GJ * sign(dot(OA.T, OD))\n",
    "    \n",
    "    GAu = GAu - r * (GD).dot(GX.T)\n",
    "    GBu = GBu - r * (GD)\n",
    "    GAv = GAv + r * (exp(GAv) * ((GD*GVu/GVv).dot(GX.T**2)))\n",
    "    GBv = GBv + r * (exp(GBv) * ((GD*GVu/GVv)))\n",
    "    \n",
    "    #H\n",
    "    HJ = exp(-(-HVu)**2/HVv/2.0)/sqrt(pi)/HVs/sqrt(2)\n",
    "    HD = HJ * sign(dot(GA.T, GD))\n",
    "    \n",
    "    HAu = HAu - r * (HD).dot(HX.T)\n",
    "    HBu = HBu - r * (HD)\n",
    "    HAv = HAv + r * (exp(HAv) * ((HD*HVu/HVv).dot(HX.T**2)))\n",
    "    HBv = HBv + r * (exp(HBv) * ((HD*HVu/HVv)))\n",
    "    \n",
    "    err.append(dot(E.T, E)[0])\n",
    "    if k > epoch - 6:\n",
    "        likelyhood *= (OP**Y)*((1-OP)**(1-Y))\n",
    "        display(k, Y.T, OP.T)\n",
    "        \n",
    "#display(HAv,HBv,OAs,OBs)\n",
    "display(likelyhood.T)\n",
    "figure();plot(log(err))"
   ]
  },
  {
   "cell_type": "code",
   "execution_count": null,
   "metadata": {
    "collapsed": true
   },
   "outputs": [],
   "source": [
    "#プロトタイプ 3層\n",
    "%matplotlib inline\n",
    "from IPython.display import display\n",
    "from matplotlib.pylab import *\n",
    "from scipy.special import erf, erfc\n",
    "\n",
    "I=map(lambda v:transpose(array([v],dtype='float64')),[[1,1,1,1],[1,1,1,0],[1,1,0,1],[1,0,1,1],[0,1,1,1]])\n",
    "#I=map(lambda v:transpose(array([v],dtype='float64')),[[0,0,0,0],[0,0,0,1],[0,0,1,0],[0,0,1,1],[0,1,0,0]])\n",
    "O=map(lambda v:transpose(array([v],dtype='float64')),[[0,0,0,0],[0,0,0,1],[0,0,1,0],[0,1,0,0],[1,0,0,0]])\n",
    "\n",
    "r = 1 / 16.0\n",
    "err = []\n",
    "eps = 1.0e-80\n",
    "epoch = 5 * ( 2 ** 14 )\n",
    "\n",
    "if True:\n",
    "    HAu = normal(size=(16,4))\n",
    "    HAv = zeros(shape(HAu))\n",
    "\n",
    "    HBu = zeros((16,1))\n",
    "    HBv = zeros(shape(HBu))\n",
    "\n",
    "    GAu = normal(size=(16,16))\n",
    "    GAv = zeros(shape(GAu))\n",
    "    \n",
    "    GBu = zeros((16,1))\n",
    "    GBv = zeros(shape(GBu))\n",
    "    \n",
    "    OAu = normal(size=(4,16))\n",
    "    OAv = zeros(shape(OAu))\n",
    "\n",
    "    OBu = zeros((4,1))\n",
    "    OBv = zeros(shape(OBu))\n",
    "    \n",
    "elif False:\n",
    "    OAv = OAv * 0.9\n",
    "    OBv = OBv * 0.9\n",
    "    GAv *= 0.9\n",
    "    GBv *= 0.9\n",
    "    HAv = HAv * 0.9\n",
    "    HBv = HBv * 0.9\n",
    "    \n",
    "def error(J, T, P, Q):\n",
    "    return J * (T-P)\n",
    "\n",
    "def delta(J, T, P, Q):\n",
    "    A = P\n",
    "    B = Q\n",
    "    C = T\n",
    "    D = (1-T)\n",
    "    E = J*(C/A-D/B)\n",
    "    NG = logical_or(isnan(E), isinf(E))\n",
    "    E[NG] = 0\n",
    "    return E\n",
    "\n",
    "likelyhood = 1\n",
    "for k in range(epoch):\n",
    "    i = k%5#int(uniform(0,5))\n",
    "    X = I[ i ]\n",
    "    Y = O[ i ]\n",
    "    \n",
    "    #H\n",
    "    HX = X\n",
    "    HA = normal(size=shape(HAu))*exp(0.5*HAv)+HAu\n",
    "    HB = normal(size=shape(HBu))*exp(0.5*HBv)+HBu\n",
    "    \n",
    "    HVu = dot(HAu,      HX   ) + HBu\n",
    "    HVv = dot(exp(HAv), HX**2) + exp(HBv)\n",
    "    HVs = sqrt(HVv)\n",
    "    \n",
    "    HF = (0 < dot(HA, HX) + HB)*(1-2*eps) + eps\n",
    "    HP = (0.5-2*eps) * erfc(-(-HVu)/HVs/sqrt(2)) + eps\n",
    "    HQ = (0.5-2*eps) * erfc( (-HVu)/HVs/sqrt(2)) + eps\n",
    "    \n",
    "    #G\n",
    "    GX = HF\n",
    "    GA = normal(size=shape(GAu))*exp(0.5*GAv)+GAu\n",
    "    GB = normal(size=shape(GBu))*exp(0.5*GBv)+GBu\n",
    "    \n",
    "    GVu = dot(GAu,      GX   ) + GBu\n",
    "    GVv = dot(exp(GAv), GX**2) + exp(GBv)\n",
    "    GVs = sqrt(GVv)\n",
    "    \n",
    "    GF = (0 < dot(GA, GX) + GB)*(1-2*eps) + eps\n",
    "    GP = (0.5-2*eps) * erfc(-(-GVu)/GVs/sqrt(2)) + eps\n",
    "    GQ = (0.5-2*eps) * erfc( (-GVu)/GVs/sqrt(2)) + eps\n",
    "    \n",
    "    #O\n",
    "    OX = GF\n",
    "    OA = normal(size=shape(OAu))*exp(0.5*OAv)+OAu\n",
    "    OB = normal(size=shape(OBu))*exp(0.5*OBv)+OBu\n",
    "    \n",
    "    OVu = dot(OAu,      OX   ) + OBu\n",
    "    OVv = dot(exp(OAv), OX**2) + exp(OBv)\n",
    "    OVs = sqrt(OVv)\n",
    "    \n",
    "    OF = (0 < dot(OA, OX) + OB)*(1-eps) + eps\n",
    "    OP = (0.5-2*eps) * erfc(-(-OVu)/OVs/sqrt(2)) + eps\n",
    "    OQ = (0.5-2*eps) * erfc( (-OVu)/OVs/sqrt(2)) + eps\n",
    "\n",
    "    E = Y - OP\n",
    "    \n",
    "    #O\n",
    "    OJ = exp(-(-OVu)**2/OVv/2.0)/sqrt(pi)/OVs/sqrt(2)\n",
    "    OD = delta(OJ, Y, OP, OQ)#    OD = OJ * (OY - OF)\n",
    "    \n",
    "    OAu = OAu - r * (OD).dot(OX.T)\n",
    "    OBu = OBu - r * (OD)\n",
    "    OAv = OAv + r * (exp(OAv) * ((OD*OVu/OVv).dot(OX.T**2)))\n",
    "    OBv = OBv + r * (exp(OBv) * ((OD*OVu/OVv)))\n",
    "\n",
    "    #G\n",
    "    GJ = exp(-(-GVu)**2/GVv/2.0)/sqrt(pi)/GVs/sqrt(2)\n",
    "    GD = GJ * sign(dot(OA.T, OD))\n",
    "    \n",
    "    GAu = GAu - r * (GD).dot(GX.T)\n",
    "    GBu = GBu - r * (GD)\n",
    "    GAv = GAv + r * (exp(GAv) * ((GD*GVu/GVv).dot(GX.T**2)))\n",
    "    GBv = GBv + r * (exp(GBv) * ((GD*GVu/GVv)))\n",
    "    \n",
    "    #H\n",
    "    HJ = exp(-(-HVu)**2/HVv/2.0)/sqrt(pi)/HVs/sqrt(2)\n",
    "    HD = HJ * sign(dot(GA.T, GD))\n",
    "    \n",
    "    HAu = HAu - r * (HD).dot(HX.T)\n",
    "    HBu = HBu - r * (HD)\n",
    "    HAv = HAv + r * (exp(HAv) * ((HD*HVu/HVv).dot(HX.T**2)))\n",
    "    HBv = HBv + r * (exp(HBv) * ((HD*HVu/HVv)))\n",
    "    \n",
    "    err.append(dot(E.T, E)[0])\n",
    "    if k > epoch - 6:\n",
    "        likelyhood *= (OP**Y)*((1-OP)**(1-Y))\n",
    "        display(k, Y.T, OP.T)\n",
    "    \n",
    "    HUT[k,0:64] = reshape(HAu,(64))\n",
    "    HUT[k,64:80] = reshape(HBu,(16))\n",
    "    HVT[k,0:64] = reshape(HAv,(64))\n",
    "    HVT[k,64:80] = reshape(HBv,(16))\n",
    "    \n",
    "    OUT[k,0:64] = reshape(OAu,(64))\n",
    "    OUT[k,64:68] = reshape(OBu,(4))\n",
    "    OVT[k,0:64] = reshape(OAv,(64))\n",
    "    OVT[k,64:68] = reshape(OBv,(4))\n",
    "        \n",
    "#display(HAv,HBv,OAs,OBs)\n",
    "display(likelyhood.T)\n",
    "figure();plot(log(err))\n",
    "figure();plot(HUT)\n",
    "figure();plot(OUT)\n",
    "figure();plot(HVT)\n",
    "figure();plot(OVT)"
   ]
  },
  {
   "cell_type": "code",
   "execution_count": 510,
   "metadata": {
    "collapsed": false
   },
   "outputs": [
    {
     "ename": "ValueError",
     "evalue": "total size of new array must be unchanged",
     "output_type": "error",
     "traceback": [
      "\u001b[0;31m---------------------------------------------------------------------------\u001b[0m",
      "\u001b[0;31mValueError\u001b[0m                                Traceback (most recent call last)",
      "\u001b[0;32m<ipython-input-510-c50b5b39e60a>\u001b[0m in \u001b[0;36m<module>\u001b[0;34m()\u001b[0m\n\u001b[1;32m    111\u001b[0m \u001b[0;31m#    OBv += 0.5**16\u001b[0m\u001b[0;34m\u001b[0m\u001b[0;34m\u001b[0m\u001b[0m\n\u001b[1;32m    112\u001b[0m \u001b[0;34m\u001b[0m\u001b[0m\n\u001b[0;32m--> 113\u001b[0;31m     \u001b[0mHUT\u001b[0m\u001b[0;34m[\u001b[0m\u001b[0mk\u001b[0m\u001b[0;34m,\u001b[0m\u001b[0;36m0\u001b[0m\u001b[0;34m:\u001b[0m\u001b[0;36m64\u001b[0m\u001b[0;34m]\u001b[0m \u001b[0;34m=\u001b[0m \u001b[0mreshape\u001b[0m\u001b[0;34m(\u001b[0m\u001b[0mHAu\u001b[0m\u001b[0;34m,\u001b[0m\u001b[0;34m(\u001b[0m\u001b[0;36m64\u001b[0m\u001b[0;34m)\u001b[0m\u001b[0;34m)\u001b[0m\u001b[0;34m\u001b[0m\u001b[0m\n\u001b[0m\u001b[1;32m    114\u001b[0m     \u001b[0mHUT\u001b[0m\u001b[0;34m[\u001b[0m\u001b[0mk\u001b[0m\u001b[0;34m,\u001b[0m\u001b[0;36m64\u001b[0m\u001b[0;34m:\u001b[0m\u001b[0;36m80\u001b[0m\u001b[0;34m]\u001b[0m \u001b[0;34m=\u001b[0m \u001b[0mreshape\u001b[0m\u001b[0;34m(\u001b[0m\u001b[0mHBu\u001b[0m\u001b[0;34m,\u001b[0m\u001b[0;34m(\u001b[0m\u001b[0;36m16\u001b[0m\u001b[0;34m)\u001b[0m\u001b[0;34m)\u001b[0m\u001b[0;34m\u001b[0m\u001b[0m\n\u001b[1;32m    115\u001b[0m     \u001b[0mHVT\u001b[0m\u001b[0;34m[\u001b[0m\u001b[0mk\u001b[0m\u001b[0;34m,\u001b[0m\u001b[0;36m0\u001b[0m\u001b[0;34m:\u001b[0m\u001b[0;36m64\u001b[0m\u001b[0;34m]\u001b[0m \u001b[0;34m=\u001b[0m \u001b[0mreshape\u001b[0m\u001b[0;34m(\u001b[0m\u001b[0mHAv\u001b[0m\u001b[0;34m,\u001b[0m\u001b[0;34m(\u001b[0m\u001b[0;36m64\u001b[0m\u001b[0;34m)\u001b[0m\u001b[0;34m)\u001b[0m\u001b[0;34m\u001b[0m\u001b[0m\n",
      "\u001b[0;32m/System/Library/Frameworks/Python.framework/Versions/2.7/Extras/lib/python/numpy/core/fromnumeric.pyc\u001b[0m in \u001b[0;36mreshape\u001b[0;34m(a, newshape, order)\u001b[0m\n\u001b[1;32m    216\u001b[0m     \u001b[0;32mexcept\u001b[0m \u001b[0mAttributeError\u001b[0m\u001b[0;34m:\u001b[0m\u001b[0;34m\u001b[0m\u001b[0m\n\u001b[1;32m    217\u001b[0m         \u001b[0;32mreturn\u001b[0m \u001b[0m_wrapit\u001b[0m\u001b[0;34m(\u001b[0m\u001b[0ma\u001b[0m\u001b[0;34m,\u001b[0m \u001b[0;34m'reshape'\u001b[0m\u001b[0;34m,\u001b[0m \u001b[0mnewshape\u001b[0m\u001b[0;34m,\u001b[0m \u001b[0morder\u001b[0m\u001b[0;34m=\u001b[0m\u001b[0morder\u001b[0m\u001b[0;34m)\u001b[0m\u001b[0;34m\u001b[0m\u001b[0m\n\u001b[0;32m--> 218\u001b[0;31m     \u001b[0;32mreturn\u001b[0m \u001b[0mreshape\u001b[0m\u001b[0;34m(\u001b[0m\u001b[0mnewshape\u001b[0m\u001b[0;34m,\u001b[0m \u001b[0morder\u001b[0m\u001b[0;34m=\u001b[0m\u001b[0morder\u001b[0m\u001b[0;34m)\u001b[0m\u001b[0;34m\u001b[0m\u001b[0m\n\u001b[0m\u001b[1;32m    219\u001b[0m \u001b[0;34m\u001b[0m\u001b[0m\n\u001b[1;32m    220\u001b[0m \u001b[0;34m\u001b[0m\u001b[0m\n",
      "\u001b[0;31mValueError\u001b[0m: total size of new array must be unchanged"
     ]
    }
   ],
   "source": [
    "#プロトタイプ 2層\n",
    "%matplotlib inline\n",
    "from IPython.display import display\n",
    "from matplotlib.pylab import *\n",
    "from scipy.special import erf, erfc\n",
    "\n",
    "#I=map(lambda v:transpose(array([v],dtype='float64')),[[1,1,1,1],[1,1,1,0],[1,1,0,1],[1,0,1,1],[0,1,1,1]])\n",
    "I=map(lambda v:transpose(array([v],dtype='float64')),[[0,0,0,0],[0,0,0,1],[0,0,1,0],[0,0,1,1],[0,1,0,0]])\n",
    "O=map(lambda v:transpose(array([v],dtype='float64')),[[0,0,0,0],[0,0,0,1],[0,0,1,0],[0,1,0,0],[1,0,0,0]])\n",
    "\n",
    "r = 1 / 16.0\n",
    "err = []\n",
    "eps = 1.0e-80\n",
    "epoch = 5 * ( 2 ** 11 )\n",
    "\n",
    "HUT = zeros((epoch,80))\n",
    "HVT = zeros((epoch,80))\n",
    "\n",
    "OUT = zeros((epoch,68))\n",
    "OVT = zeros((epoch,68))\n",
    "\n",
    "if False:\n",
    "    HAu = normal(size=(16,4))\n",
    "    HAv = zeros(shape(HAu))\n",
    "\n",
    "    HBu = zeros((16,1))\n",
    "    HBv = zeros(shape(HBu))\n",
    "\n",
    "    OAu = normal(size=(4,16))\n",
    "    OAv = zeros(shape(OAu))\n",
    "\n",
    "    OBu = zeros((4,1))\n",
    "    OBv = zeros(shape(OBu))\n",
    "    \n",
    "elif False:\n",
    "    OAv = OAv * 0.99 + 1\n",
    "    OBv = OBv * 0.99 + 1\n",
    "    HAv = HAv * 0.99 + 1\n",
    "    HBv = HBv * 0.99 + 1\n",
    "    \n",
    "def error(J, T, P, Q):\n",
    "    return J * (T-P)\n",
    "\n",
    "def delta(J, T, P, Q):\n",
    "    A = P\n",
    "    B = Q\n",
    "    C = T\n",
    "    D = (1-T)\n",
    "    E = J*(C/A-D/B)\n",
    "    NG = logical_or(isnan(E), isinf(E))\n",
    "    E[NG] = 0\n",
    "    return E\n",
    "\n",
    "likelyhood = 1\n",
    "for k in range(epoch):\n",
    "    i = k%5#int(uniform(0,5))\n",
    "    X = I[ i ]\n",
    "    Y = O[ i ]\n",
    "    \n",
    "    HX = X\n",
    "    HA = normal(size=shape(HAu))*exp(0.5*HAv)+HAu\n",
    "    HB = normal(size=shape(HBu))*exp(0.5*HBv)+HBu\n",
    "    \n",
    "    HVu = dot(HAu,      HX   ) + HBu\n",
    "    HVv = dot(exp(HAv), HX**2) + exp(HBv)\n",
    "    HVs = sqrt(HVv)\n",
    "    \n",
    "    HF = (0 < dot(HA, HX) + HB)*(1-2*eps)+eps\n",
    "    HP = (0.5-2*eps) * erfc(-(-HVu)/HVs/sqrt(2)) + eps\n",
    "    HQ = (0.5-2*eps) * erfc( (-HVu)/HVs/sqrt(2)) + eps\n",
    "    \n",
    "    OX = HF\n",
    "    OA = normal(size=shape(OAu))*exp(0.5*OAv)+OAu\n",
    "    OB = normal(size=shape(OBu))*exp(0.5*OBv)+OBu\n",
    "    \n",
    "    OVu = dot(OAu,      OX   ) + OBu\n",
    "    OVv = dot(exp(OAv), OX**2) + exp(OBv)\n",
    "    OVs = sqrt(OVv)\n",
    "    \n",
    "    OF = (0 < dot(OA, OX) + OB)*(1-eps)+eps\n",
    "    OP = (0.5-2*eps) * erfc(-(-OVu)/OVs/sqrt(2)) + eps\n",
    "    OQ = (0.5-2*eps) * erfc( (-OVu)/OVs/sqrt(2)) + eps\n",
    "\n",
    "    E = Y - OP\n",
    "    \n",
    "    OY = Y\n",
    "    OJ = exp(-(-OVu)**2/OVv/2.0)/sqrt(pi)/OVs/sqrt(2)\n",
    "    OD = delta(OJ, OY, OP, OQ)#    OD = OJ * (OY - OF)\n",
    "    \n",
    "    OAu = OAu - r * (OD).dot(OX.T)\n",
    "    OBu = OBu - r * (OD)\n",
    "    OAv = OAv + r * (exp(OAv) * ((OD*OVu/OVv).dot(OX.T**2)))\n",
    "    OBv = OBv + r * (exp(OBv) * ((OD*OVu/OVv)))\n",
    "    \n",
    "    HJ = exp(-(-HVu)**2/HVv/2.0)/sqrt(pi)/HVs/sqrt(2)\n",
    "    HD = HJ * sign(dot(OA.T, OD))\n",
    "    \n",
    "    HAu = HAu - r * (HD).dot(HX.T)\n",
    "    HBu = HBu - r * (HD)\n",
    "    HAv = HAv + r * (exp(HAv) * ((HD*HVu/HVv).dot(HX.T**2)))\n",
    "    HBv = HBv + r * (exp(HBv) * ((HD*HVu/HVv)))\n",
    "    \n",
    "    err.append(dot(E.T, E)[0])\n",
    "    if k > epoch - 6:\n",
    "        likelyhood *= (OP**Y)*((1-OP)**(1-Y))\n",
    "        display(k, Y.T, OP.T)\n",
    "\n",
    "#    HAv += 0.5**16\n",
    "#    HBv += 0.5**16\n",
    "#    OAv += 0.5**16\n",
    "#    OBv += 0.5**16\n",
    "    \n",
    "    HUT[k,0:64] = reshape(HAu,(64))\n",
    "    HUT[k,64:80] = reshape(HBu,(16))\n",
    "    HVT[k,0:64] = reshape(HAv,(64))\n",
    "    HVT[k,64:80] = reshape(HBv,(16))\n",
    "    \n",
    "    OUT[k,0:64] = reshape(OAu,(64))\n",
    "    OUT[k,64:68] = reshape(OBu,(4))\n",
    "    OVT[k,0:64] = reshape(OAv,(64))\n",
    "    OVT[k,64:68] = reshape(OBv,(4))\n",
    "        \n",
    "#display(HAv,HBv,OAs,OBs)\n",
    "display(likelyhood.T)\n",
    "figure();plot(log(err))\n",
    "figure();plot(HUT)\n",
    "figure();plot(OUT)\n",
    "figure();plot(HVT)\n",
    "figure();plot(OVT)"
   ]
  },
  {
   "cell_type": "code",
   "execution_count": 483,
   "metadata": {
    "collapsed": false,
    "scrolled": false
   },
   "outputs": [
    {
     "data": {
      "text/plain": [
       "array([[ 0.,  0.,  0.,  0.]])"
      ]
     },
     "metadata": {},
     "output_type": "display_data"
    },
    {
     "data": {
      "text/plain": [
       "array([[  1.23811279e-06,   0.00000000e+00,   6.36004822e-08,\n",
       "          1.38252724e-07]])"
      ]
     },
     "metadata": {},
     "output_type": "display_data"
    },
    {
     "data": {
      "text/plain": [
       "array([[ 0.,  0.,  0.,  1.]])"
      ]
     },
     "metadata": {},
     "output_type": "display_data"
    },
    {
     "data": {
      "text/plain": [
       "array([[  1.42093697e-05,   9.82277880e-06,   0.00000000e+00,\n",
       "          9.99981634e-01]])"
      ]
     },
     "metadata": {},
     "output_type": "display_data"
    },
    {
     "data": {
      "text/plain": [
       "array([[ 0.,  0.,  1.,  0.]])"
      ]
     },
     "metadata": {},
     "output_type": "display_data"
    },
    {
     "data": {
      "text/plain": [
       "array([[  1.42215063e-05,   9.71117240e-06,   9.99981824e-01,\n",
       "          0.00000000e+00]])"
      ]
     },
     "metadata": {},
     "output_type": "display_data"
    },
    {
     "data": {
      "text/plain": [
       "array([[ 0.,  1.,  0.,  0.]])"
      ]
     },
     "metadata": {},
     "output_type": "display_data"
    },
    {
     "data": {
      "text/plain": [
       "array([[  8.27086563e-07,   9.99979668e-01,   2.18300350e-05,\n",
       "          2.21018542e-05]])"
      ]
     },
     "metadata": {},
     "output_type": "display_data"
    },
    {
     "data": {
      "text/plain": [
       "array([[ 1.,  0.,  0.,  0.]])"
      ]
     },
     "metadata": {},
     "output_type": "display_data"
    },
    {
     "data": {
      "text/plain": [
       "array([[  9.99980392e-01,   1.31497787e-05,   1.48843199e-05,\n",
       "          1.50520988e-05]])"
      ]
     },
     "metadata": {},
     "output_type": "display_data"
    },
    {
     "data": {
      "text/plain": [
       "[<matplotlib.lines.Line2D at 0x436b4d7d0>,\n",
       " <matplotlib.lines.Line2D at 0x4224ffd50>,\n",
       " <matplotlib.lines.Line2D at 0x436c79190>,\n",
       " <matplotlib.lines.Line2D at 0x436c793d0>,\n",
       " <matplotlib.lines.Line2D at 0x40ea767d0>,\n",
       " <matplotlib.lines.Line2D at 0x40ea76150>,\n",
       " <matplotlib.lines.Line2D at 0x3ebdb0650>,\n",
       " <matplotlib.lines.Line2D at 0x436b7f0d0>,\n",
       " <matplotlib.lines.Line2D at 0x3ebdb0450>,\n",
       " <matplotlib.lines.Line2D at 0x3ebdb0d90>,\n",
       " <matplotlib.lines.Line2D at 0x3ebdb08d0>,\n",
       " <matplotlib.lines.Line2D at 0x3ebdb0310>,\n",
       " <matplotlib.lines.Line2D at 0x202a14790>,\n",
       " <matplotlib.lines.Line2D at 0x408805cd0>,\n",
       " <matplotlib.lines.Line2D at 0x3ebdb02d0>,\n",
       " <matplotlib.lines.Line2D at 0x439304190>]"
      ]
     },
     "execution_count": 483,
     "metadata": {},
     "output_type": "execute_result"
    },
    {
     "data": {
      "image/png": "[encoded data removed]",
      "text/plain": [
       "<matplotlib.figure.Figure at 0x425d9e810>"
      ]
     },
     "metadata": {},
     "output_type": "display_data"
    },
    {
     "data": {
      "image/png": "[encoded data removed]",
      "text/plain": [
       "<matplotlib.figure.Figure at 0x4111912d0>"
      ]
     },
     "metadata": {},
     "output_type": "display_data"
    },
    {
     "data": {
      "image/png": "[encoded data removed]",
      "text/plain": [
       "<matplotlib.figure.Figure at 0x43303b0d0>"
      ]
     },
     "metadata": {},
     "output_type": "display_data"
    }
   ],
   "source": [
    "#プロトタイプ 1層\n",
    "%matplotlib inline\n",
    "from IPython.display import display\n",
    "from matplotlib.pylab import *\n",
    "from scipy.special import erfc, erf\n",
    "I=map(lambda v:transpose(array([v],dtype='float64')),[[0,0,0  ],[0,0,1  ],[0,1,0  ],[0,1,1  ],[1,0,0  ]])\n",
    "O=map(lambda v:transpose(array([v],dtype='float64')),[[0,0,0,0],[0,0,0,1],[0,0,1,0],[0,1,0,0],[1,0,0,0]])\n",
    "\n",
    "if False:\n",
    "    WU = normal(size=(4,3))\n",
    "    WS = ones(shape(WU))\n",
    "    BU = normal(size=(4,1))\n",
    "    BS = ones(shape(BU))\n",
    "elif True:\n",
    "    WS += pi\n",
    "    BS += pi\n",
    "\n",
    "eps = 1/16.0\n",
    "err = []\n",
    "epoch = 5 * ( 2 ** 13 )\n",
    "u = zeros((16,epoch))\n",
    "s = zeros((16,epoch))\n",
    "\n",
    "def error(J, D, Y):\n",
    "    return J * ( D - Y )\n",
    "\n",
    "def delta(J, D, P, Q):\n",
    "    E = J\n",
    "    row, col = shape(J)\n",
    "    for r in range(row):\n",
    "        for c in range(col):\n",
    "            if 0 < P[r,c] and 0 < Q[r,c]:\n",
    "                #Cross Entropy\n",
    "                E[r,c] *= D[r,c]/P[r,c] - (1-D[r,c])/Q[r,c]\n",
    "            else:\n",
    "                E[r,c] *= 0#D[r,c] - Y[r,c]\n",
    "    return E\n",
    "\n",
    "for k in range(epoch):\n",
    "    X = I[ k % 5 ]\n",
    "    Y = O[ k % 5 ]\n",
    "    \n",
    "    W = normal(size=shape(WU))*exp(0.5*WS)+WU\n",
    "    B = normal(size=shape(BU))*exp(0.5*BS)+BU\n",
    "    \n",
    "    V = dot(W, X) + B\n",
    "    \n",
    "    VU = dot(WU,      X   ) + BU\n",
    "    VV = dot(exp(WS), X**2) + exp(BS)\n",
    "    VS = sqrt(VV)\n",
    "    \n",
    "    F = array(0 < V, dtype='float64')\n",
    "    P = 0.5 * erfc(-(-VU)/VS/sqrt(2))\n",
    "    Q = 0.5 * erfc( (-VU)/VS/sqrt(2))\n",
    "    \n",
    "    E = (Y - P)\n",
    "    T = P + eps * E\n",
    "    J = exp(-(-VU)**2/VV/2.0)/sqrt(pi)/VS/sqrt(2)\n",
    "    D = delta(J, T, P, Q)\n",
    "    WU = WU - (D).dot(X.T)\n",
    "    BU = BU - (D)\n",
    "    WS = WS + exp(WS) * (D*VU/VV).dot(X.T**2)\n",
    "    BS = BS + exp(BS) * (D*VU/VV)\n",
    "    \n",
    "    err.append(dot(E.T, E)[0])\n",
    "    u[0:12,k] = reshape(WU, (12))\n",
    "    u[12:16,k] = reshape(BU, (4))\n",
    "    s[0:12,k] = reshape(WS, (12))\n",
    "    s[12:16,k] = reshape(BS, (4))\n",
    "\n",
    "for k in range(5):\n",
    "    X = I[k]\n",
    "    Y = O[k]\n",
    "    VU = dot(WU,    X   )+BU\n",
    "    VV = dot(exp(WS), X**2)+exp(BS)\n",
    "    VS = sqrt(VV)\n",
    "    P = 0.5 + 0.5 * erf(-VU/VS/sqrt(2))\n",
    "    display(Y.T, P.T)\n",
    "\n",
    "figure();plot(log(err))\n",
    "figure();plot(u.T)\n",
    "figure();plot(s.T)"
   ]
  },
  {
   "cell_type": "code",
   "execution_count": null,
   "metadata": {
    "collapsed": false,
    "scrolled": false
   },
   "outputs": [],
   "source": [
    "#角層クロスエントロピー\n",
    "%matplotlib inline\n",
    "from IPython.display import display\n",
    "from matplotlib.pylab import *\n",
    "I=map(lambda v:transpose(array([v],dtype='float64')),[[0,0,0,0],[0,0,0,1],[0,0,1,0],[0,0,1,1],[0,1,0,0]])\n",
    "O=map(lambda v:transpose(array([v],dtype='float64')),[[0,0,0,0],[0,0,0,1],[0,0,1,0],[0,1,0,0],[1,0,0,0]])\n",
    "HB=normal(0, 0.1, (4, 1))\n",
    "HW=normal(0, 0.1, (4, 4))\n",
    "OB=normal(0, 0.1, (4, 1))\n",
    "OW=normal(0, 0.1, (4, 4))\n",
    "\n",
    "eps = 0.05\n",
    "k = 0\n",
    "r = 8\n",
    "err = []\n",
    "for idx in range(2**14):\n",
    "    k = idx % 5\n",
    "    Ik = I[k]\n",
    "    Ok = O[k]\n",
    "    HO = (0.5 + 0.5 * tanh(r*(dot(HW, Ik)+HB)))\n",
    "    OO = (0.5 + 0.5 * tanh(r*(dot(OW, HO)+OB)))\n",
    "    \n",
    "    E = Ok - OO\n",
    "    err.append(E.T.dot(E)[0])\n",
    "\n",
    "    #O update\n",
    "    E = Ok - OO\n",
    "    C = (Ok)/(OO) - (1-Ok)/(1-OO)\n",
    "    DB = r * ( 1 - OO * OO ) * C\n",
    "    DB[isnan(DB)] = 0\n",
    "    DB[isinf(DB)] = sign(DB[isinf(DB)])\n",
    "    DX = HO + eps * dot(inv(OW), DB)\n",
    "    \n",
    "    DW = dot(DB, transpose(HO))\n",
    "    OW = OW + eps * DW\n",
    "    OB = OB + eps * DB\n",
    "\n",
    "    #H update\n",
    "    E = DX - HO\n",
    "    C = (DX)/(HO) - (1-DX)/(1-HO)\n",
    "    DB = r * ( 1 - HO * HO ) * C\n",
    "    DB[isnan(DB)] = 0\n",
    "    DB[isinf(DB)] = sign(DB[isinf(DB)])\n",
    "    DX = dot(transpose(HW), DB)\n",
    "    \n",
    "    DW = dot(DB, transpose(Ik))\n",
    "    HW = HW + eps * DW\n",
    "    HB = HB + eps * DB\n",
    "\n",
    "for k in range(5):\n",
    "    Ik = I[k]\n",
    "    Ok = O[k]\n",
    "    HO = 0.5 + 0.5 * tanh(r*(dot(HW, Ik)+HB))\n",
    "    OO = 0.5 + 0.5 * tanh(r*(dot(OW, HO)+OB))\n",
    "    display(k, Ik.T, OO.T)\n",
    "\n",
    "plot(log(err))"
   ]
  },
  {
   "cell_type": "code",
   "execution_count": null,
   "metadata": {
    "collapsed": false
   },
   "outputs": [],
   "source": [
    "#角層最急降下法\n",
    "%matplotlib inline\n",
    "from IPython.display import display\n",
    "from matplotlib.pylab import *\n",
    "I=map(lambda v:transpose(array([v])),[[0,0,0,0],[0,0,0,1],[0,0,1,0],[0,0,1,1],[0,1,0,0]])\n",
    "O=map(lambda v:transpose(array([v])),[[0,0,0,0],[0,0,0,1],[0,0,1,0],[0,1,0,0],[1,0,0,0]])\n",
    "HB=normal(0, 1, (16, 1))\n",
    "HW=normal(0, 1, (16, 4))\n",
    "OB=normal(0, 1, (4,  1))\n",
    "OW=normal(0, 1, (4, 16))\n",
    "\n",
    "eps = 0.05\n",
    "k = 0\n",
    "r = 8\n",
    "err = []\n",
    "for idx in range(2**16):\n",
    "    k = idx % 5\n",
    "    Ik = I[k]\n",
    "    Ok = O[k]\n",
    "    HO = (0.5 + 0.5 * tanh(r*(dot(HW, Ik)+HB)))# > uniform(0, 1, (16, 1))\n",
    "    OO = (0.5 + 0.5 * tanh(r*(dot(OW, HO)+OB)))# > uniform(0, 1, (4, 1))\n",
    "\n",
    "    E = Ok - OO\n",
    "    err.append(E.T.dot(E)[0])\n",
    "\n",
    "    #O update\n",
    "    DB = r * ( 1 - OO * OO ) * ( Ok - OO )\n",
    "    DX = dot(transpose(OW), Ok)\n",
    "    \n",
    "    OW = OW + eps * dot(DB, transpose(HO))\n",
    "    OB = OB + eps * DB\n",
    "\n",
    "    #H update\n",
    "    DB = r * ( 1 - HO * HO ) * ( DX - HO )\n",
    "    DX = dot(transpose(HW), DB)\n",
    "    \n",
    "    DW = dot(DB, transpose(Ik))\n",
    "    HW = HW + eps * DW\n",
    "    HB = HB + eps * DB\n",
    "\n",
    "for k in range(5):\n",
    "    Ik = I[k]\n",
    "    Ok = O[k]\n",
    "    HO = 0.5 + 0.5 * tanh(r*(dot(HW, Ik)+HB))\n",
    "    OO = 0.5 + 0.5 * tanh(r*(dot(OW, HO)+OB))\n",
    "    display(k, Ik.T, OO.T)\n",
    "\n",
    "plot(log(err))"
   ]
  },
  {
   "cell_type": "code",
   "execution_count": null,
   "metadata": {
    "collapsed": false
   },
   "outputs": [],
   "source": [
    "#ただの最急降下法\n",
    "%matplotlib inline\n",
    "from IPython.display import display\n",
    "from matplotlib.pylab import *\n",
    "I=map(lambda v:transpose(array([v])),[[0,0,0,0],[0,0,0,1],[0,0,1,0],[0,0,1,1],[0,1,0,0]])\n",
    "O=map(lambda v:transpose(array([v])),[[0,0,0,0],[0,0,0,1],[0,0,1,0],[0,1,0,0],[1,0,0,0]])\n",
    "HB=normal(0, 1, (16, 1))\n",
    "HW=normal(0, 1, (16, 4))\n",
    "OB=normal(0, 1, (4,  1))\n",
    "OW=normal(0, 1, (4, 16))\n",
    "\n",
    "eps = 0.01\n",
    "k = 0\n",
    "r = 8\n",
    "err = []\n",
    "for idx in range(2**16):\n",
    "    k = idx % 5\n",
    "    Ik = I[k]\n",
    "    Ok = O[k]\n",
    "    HO = (0.5 + 0.5 * tanh(r*(dot(HW, Ik)+HB)))# > uniform(0, 1, (16, 1))\n",
    "    OO = (0.5 + 0.5 * tanh(r*(dot(OW, HO)+OB)))# > uniform(0, 1, (4, 1))\n",
    "\n",
    "    DX = Ok - OO\n",
    "    E = Ok - OO\n",
    "    err.append(E.T.dot(E)[0])\n",
    "\n",
    "    #O update\n",
    "    DB = DX * r * (1 - OO * OO)\n",
    "    DX = dot(transpose(OW), DB)\n",
    "    \n",
    "    OW = OW + eps * dot(DB, transpose(HO))\n",
    "    OB = OB + eps * DB\n",
    "\n",
    "    #H update\n",
    "    DB = DX * r * (1 - HO * HO)\n",
    "    DX = dot(transpose(HW), DB)\n",
    "    \n",
    "    DW = dot(DB, transpose(Ik))\n",
    "    HW = HW + eps * DW\n",
    "    HB = HB + eps * DB\n",
    "\n",
    "for k in range(5):\n",
    "    Ik = I[k]\n",
    "    Ok = O[k]\n",
    "    HO = 0.5 + 0.5 * tanh(r*(dot(HW, Ik)+HB))\n",
    "    OO = 0.5 + 0.5 * tanh(r*(dot(OW, HO)+OB))\n",
    "    display(k, Ik.T, OO.T)\n",
    "    \n",
    "plot(log(err))"
   ]
  },
  {
   "cell_type": "code",
   "execution_count": 49,
   "metadata": {
    "collapsed": false
   },
   "outputs": [
    {
     "data": {
      "text/plain": [
       "0.035193377824930837"
      ]
     },
     "metadata": {},
     "output_type": "display_data"
    },
    {
     "data": {
      "text/plain": [
       "0.035193377824930844"
      ]
     },
     "metadata": {},
     "output_type": "display_data"
    },
    {
     "data": {
      "text/plain": [
       "2.0"
      ]
     },
     "metadata": {},
     "output_type": "display_data"
    }
   ],
   "source": [
    "display(erfcx(16),erfc(16)*exp(16*16),erfc(-2**20))"
   ]
  },
  {
   "cell_type": "code",
   "execution_count": null,
   "metadata": {
    "collapsed": false
   },
   "outputs": [],
   "source": [
    "from sympy import *\n",
    "d,y=symbols('d,y')\n",
    "solve(d*(1-y)-y*(1-d),y)"
   ]
  }
 ],
 "metadata": {
  "kernelspec": {
   "display_name": "Python 2",
   "language": "python",
   "name": "python2"
  },
  "language_info": {
   "codemirror_mode": {
    "name": "ipython",
    "version": 2
   },
   "file_extension": ".py",
   "mimetype": "text/x-python",
   "name": "python",
   "nbconvert_exporter": "python",
   "pygments_lexer": "ipython2",
   "version": "2.7.10"
  }
 },
 "nbformat": 4,
 "nbformat_minor": 0
}
