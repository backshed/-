{
 "cells": [
  {
   "cell_type": "code",
   "execution_count": 186,
   "metadata": {
    "collapsed": false
   },
   "outputs": [
    {
     "data": {
      "image/png": "[encoded data removed]",
      "text/latex": [
       "$$0.5 \\operatorname{erf}{\\left (\\frac{\\mu_{a} x + \\mu_{b}}{\\sqrt{\\sigma_{a}^{2} x^{2} + \\sigma_{b}^{2}}} \\right )} + 0.5$$"
      ],
      "text/plain": [
       "       ⎛    μₐ⋅x + μ_b    ⎞      \n",
       "0.5⋅erf⎜──────────────────⎟ + 0.5\n",
       "       ⎜   _______________⎟      \n",
       "       ⎜  ╱   2  2      2 ⎟      \n",
       "       ⎝╲╱  σₐ ⋅x  + σ_b  ⎠      "
      ]
     },
     "metadata": {},
     "output_type": "display_data"
    },
    {
     "data": {
      "image/png": "[encoded data removed]",
      "text/latex": [
       "$$- \\frac{e^{- \\frac{\\left(\\mu_{a} x + \\mu_{b}\\right)^{2}}{\\sigma_{a}^{2} x^{2} + \\sigma_{b}^{2}}}}{\\sqrt{\\pi} \\sqrt{\\sigma_{a}^{2} x^{2} + \\sigma_{b}^{2}}}$$"
      ],
      "text/plain": [
       "                 2   \n",
       "    -(μₐ⋅x + μ_b)    \n",
       "    ───────────────  \n",
       "       2  2      2   \n",
       "     σₐ ⋅x  + σ_b    \n",
       "  -ℯ                 \n",
       "─────────────────────\n",
       "      _______________\n",
       "     ╱   2  2      2 \n",
       "√π⋅╲╱  σₐ ⋅x  + σ_b  "
      ]
     },
     "metadata": {},
     "output_type": "display_data"
    },
    {
     "data": {
      "image/png": "[encoded data removed]",
      "text/latex": [
       "$$\\frac{1.0 \\sigma_{a} x^{2} \\left(\\mu_{a} x + \\mu_{b}\\right)}{\\sigma_{a}^{2} x^{2} + \\sigma_{b}^{2}}$$"
      ],
      "text/plain": [
       "        2             \n",
       "1.0⋅σₐ⋅x ⋅(μₐ⋅x + μ_b)\n",
       "──────────────────────\n",
       "      2  2      2     \n",
       "    σₐ ⋅x  + σ_b      "
      ]
     },
     "metadata": {},
     "output_type": "display_data"
    }
   ],
   "source": [
    "#プロトタイプ\n",
    "%matplotlib inline\n",
    "from sympy import *\n",
    "init_printing()\n",
    "y,x,ua,ub,sa,sb,x,d = symbols('y,x,mu_a,mu_b,sigma_a,sigma_b,x,d')\n",
    "f = 0.5 + 0.5 * erf((ua*x+ub)/sqrt(sa*sa*x*x+sb*sb))\n",
    "p = -exp(-(ua*x+ub)**2/(sa*sa*x*x+sb*sb))/sqrt(pi)/sqrt(sa*sa*x*x+sb*sb)\n",
    "display(f, p)\n",
    "display(simplify(diff(f, sa)/p))"
   ]
  },
  {
   "cell_type": "code",
   "execution_count": 467,
   "metadata": {
    "collapsed": false
   },
   "outputs": [
    {
     "data": {
      "image/png": "[encoded data removed]",
      "text/latex": [
       "$$40955$$"
      ],
      "text/plain": [
       "40955"
      ]
     },
     "metadata": {},
     "output_type": "display_data"
    },
    {
     "data": {
      "text/plain": [
       "array([[ 0.,  0.,  0.,  0.]])"
      ]
     },
     "metadata": {},
     "output_type": "display_data"
    },
    {
     "data": {
      "text/plain": [
       "array([[ 0.,  0.,  0.,  0.]])"
      ]
     },
     "metadata": {},
     "output_type": "display_data"
    },
    {
     "data": {
      "image/png": "[encoded data removed]",
      "text/latex": [
       "$$40956$$"
      ],
      "text/plain": [
       "40956"
      ]
     },
     "metadata": {},
     "output_type": "display_data"
    },
    {
     "data": {
      "text/plain": [
       "array([[ 0.,  0.,  0.,  1.]])"
      ]
     },
     "metadata": {},
     "output_type": "display_data"
    },
    {
     "data": {
      "text/plain": [
       "array([[ 0.        ,  0.        ,  0.        ,  0.99754187]])"
      ]
     },
     "metadata": {},
     "output_type": "display_data"
    },
    {
     "data": {
      "image/png": "[encoded data removed]",
      "text/latex": [
       "$$40957$$"
      ],
      "text/plain": [
       "40957"
      ]
     },
     "metadata": {},
     "output_type": "display_data"
    },
    {
     "data": {
      "text/plain": [
       "array([[ 0.,  0.,  1.,  0.]])"
      ]
     },
     "metadata": {},
     "output_type": "display_data"
    },
    {
     "data": {
      "text/plain": [
       "array([[  0.00000000e+00,   4.30805218e-05,   9.99998551e-01,\n",
       "          0.00000000e+00]])"
      ]
     },
     "metadata": {},
     "output_type": "display_data"
    },
    {
     "data": {
      "image/png": "[encoded data removed]",
      "text/latex": [
       "$$40958$$"
      ],
      "text/plain": [
       "40958"
      ]
     },
     "metadata": {},
     "output_type": "display_data"
    },
    {
     "data": {
      "text/plain": [
       "array([[ 0.,  1.,  0.,  0.]])"
      ]
     },
     "metadata": {},
     "output_type": "display_data"
    },
    {
     "data": {
      "text/plain": [
       "array([[  0.00000000e+00,   9.99999873e-01,   9.21073719e-07,\n",
       "          2.99641584e-02]])"
      ]
     },
     "metadata": {},
     "output_type": "display_data"
    },
    {
     "data": {
      "image/png": "[encoded data removed]",
      "text/latex": [
       "$$40959$$"
      ],
      "text/plain": [
       "40959"
      ]
     },
     "metadata": {},
     "output_type": "display_data"
    },
    {
     "data": {
      "text/plain": [
       "array([[ 1.,  0.,  0.,  0.]])"
      ]
     },
     "metadata": {},
     "output_type": "display_data"
    },
    {
     "data": {
      "text/plain": [
       "array([[ 1.,  0.,  0.,  0.]])"
      ]
     },
     "metadata": {},
     "output_type": "display_data"
    },
    {
     "data": {
      "text/plain": [
       "array([[  1.00000000e+000,   3.01467999e-001,   9.16999864e-003,\n",
       "          5.42362177e-008],\n",
       "       [  1.00000000e+000,   2.04524906e-005,   4.44659081e-323,\n",
       "          2.81233883e+000],\n",
       "       [  1.00000000e+000,   5.35020334e-003,   1.40907911e-006,\n",
       "          4.14067657e-006],\n",
       "       [  1.00000000e+000,   8.55257302e-008,   5.19043233e-024,\n",
       "          2.66909057e-012],\n",
       "       [  1.00000000e+000,   1.64944108e+000,   2.77654068e-082,\n",
       "          2.68381115e+000],\n",
       "       [  1.00000000e+000,   6.22849007e-006,   1.20506509e-015,\n",
       "          3.36922879e-009],\n",
       "       [  1.00000000e+000,   8.83104539e-001,   2.23734097e-005,\n",
       "          1.50475198e-006],\n",
       "       [  1.00000000e+000,   1.59642693e-003,   2.65072920e+000,\n",
       "          4.41709757e-152]])"
      ]
     },
     "metadata": {},
     "output_type": "display_data"
    },
    {
     "data": {
      "text/plain": [
       "array([[ 0.03783082],\n",
       "       [ 2.37030957],\n",
       "       [ 1.95473775],\n",
       "       [ 1.73385327],\n",
       "       [ 4.63409514],\n",
       "       [ 1.74811382],\n",
       "       [ 2.0005685 ],\n",
       "       [ 3.63056701]])"
      ]
     },
     "metadata": {},
     "output_type": "display_data"
    },
    {
     "data": {
      "text/plain": [
       "array([[  3.04093526e-03,   5.21786364e-02,   5.62291560e-04,\n",
       "          5.55625129e-01,   2.63622035e+00,   1.81131299e-01,\n",
       "          2.70746962e+00,   1.20562127e-01],\n",
       "       [  9.27988316e-08,   6.48624555e-18,   3.15755467e-04,\n",
       "          1.20693747e-03,   1.94624365e+00,   1.94281364e-03,\n",
       "          5.09025152e-04,   2.44131385e+00],\n",
       "       [  1.49974441e-05,   2.06596282e-07,   4.47844649e-02,\n",
       "          1.58890751e-12,   9.54815484e-05,   2.12376402e-05,\n",
       "          4.13237766e-02,   4.21688362e+00],\n",
       "       [  2.16551889e+00,   2.12362248e+01,   1.43343913e-02,\n",
       "          8.57874970e-03,   1.76714245e+01,   3.89748486e-02,\n",
       "          1.25664572e-02,   3.43315588e-02]])"
      ]
     },
     "metadata": {},
     "output_type": "display_data"
    },
    {
     "data": {
      "text/plain": [
       "array([[  3.51998766e-18],\n",
       "       [  1.27165160e-28],\n",
       "       [  3.75684358e-19],\n",
       "       [  3.49322464e+00]])"
      ]
     },
     "metadata": {},
     "output_type": "display_data"
    },
    {
     "name": "stderr",
     "output_type": "stream",
     "text": [
      "/Users/Kota/Library/Python/2.7/lib/python/site-packages/ipykernel/__main__.py:96: RuntimeWarning: divide by zero encountered in log\n"
     ]
    },
    {
     "data": {
      "text/plain": [
       "[<matplotlib.lines.Line2D at 0x1ea92a750>]"
      ]
     },
     "execution_count": 467,
     "metadata": {},
     "output_type": "execute_result"
    },
    {
     "data": {
      "image/png": "[encoded data removed]",
      "text/plain": [
       "<matplotlib.figure.Figure at 0x1d89faa10>"
      ]
     },
     "metadata": {},
     "output_type": "display_data"
    }
   ],
   "source": [
    "#プロトタイプ 2層\n",
    "%matplotlib inline\n",
    "from IPython.display import display\n",
    "from matplotlib.pylab import *\n",
    "from scipy.special import *\n",
    "\n",
    "I=map(lambda v:transpose(array([v],dtype='float64')),[[0,0,0,0],[0,0,0,1],[0,0,1,0],[0,0,1,1],[0,1,0,0]])\n",
    "O=map(lambda v:transpose(array([v],dtype='float64')),[[0,0,0,0],[0,0,0,1],[0,0,1,0],[0,1,0,0],[1,0,0,0]])\n",
    "\n",
    "if False:\n",
    "    HAu = zeros((8,4))\n",
    "    HAs = ones(shape(HAu))\n",
    "\n",
    "    HBu = zeros((8,1))\n",
    "    HBs = ones(shape(HBu))\n",
    "\n",
    "    OAu = zeros((4,8))\n",
    "    OAs = ones(shape(OAu))\n",
    "\n",
    "    OBu = zeros((4,1))\n",
    "    OBs = ones(shape(OBu))\n",
    "\n",
    "eps = 0.05\n",
    "err = []\n",
    "\n",
    "epoch = 5 * ( 2 ** 13 )\n",
    "def delta(J, D, Y):\n",
    "    E = -J\n",
    "    row, col = shape(J)\n",
    "    for r in range(row):\n",
    "        for c in range(col):\n",
    "            if 0 < Y[r,c] and Y[r,c] < 1:\n",
    "                E[r,c] *= D[r,c]/Y[r,c] - (1-D[r,c])/(1-Y[r,c])\n",
    "            else:\n",
    "                E[r,c] *= D[r,c] - Y[r,c]\n",
    "    return E\n",
    "\n",
    "for k in range(epoch):\n",
    "    X = I[ k % 5 ]\n",
    "    Y = O[ k % 5 ]\n",
    "    \n",
    "    HX = X\n",
    "    HA = normal(size=shape(HAu))*HAs+HAu\n",
    "    HB = normal(size=shape(HBu))*HBs+HBu\n",
    "    \n",
    "    HV = dot(HA, HX) + HB\n",
    "    HVu = dot(HAu,    HX   ) + HBu\n",
    "    HVv = dot(HAs**2, HX**2) + HBs**2\n",
    "    HVs = sqrt(HVv)\n",
    "    \n",
    "    HF = 0 < HV\n",
    "    HP = 0.5 + 0.5 * erf(HV/HVs)\n",
    "    HPu = 0.5 + 0.5 * erf(HVu/HVs)\n",
    "    \n",
    "    OX = HF\n",
    "    OA = normal(size=shape(OAu))*OAs+OAu\n",
    "    OB = normal(size=shape(OBu))*OBs+OBu\n",
    "    \n",
    "    OV = dot(OA, OX) + OB\n",
    "    OVu = dot(OAu,    OX   ) + OBu\n",
    "    OVv = dot(OAs**2, OX**2) + OBs**2\n",
    "    OVs = sqrt(OVv)\n",
    "    \n",
    "    OF = 0 < OV\n",
    "    OP = 0.5 + 0.5 * erf(OV/OVs)\n",
    "    OPu = 0.5 + 0.5 * erf(OVu/OVs)\n",
    "    \n",
    "    OY = Y    \n",
    "    E = OY - OPu\n",
    "    \n",
    "    OJ  = -exp(-(-OV )**2/OVv)/sqrt(pi)/OVs\n",
    "    OJu = -exp(-(-OVu)**2/OVv)/sqrt(pi)/OVs\n",
    "    OD = delta(OJ, OY, OP)\n",
    "    OAu = OAu + eps * (OD).dot(OX.T)\n",
    "    OBu = OBu + eps * (OD)\n",
    "    #正則化する\n",
    "    OAs = abs(OAs - eps * (OAs*exp(-OAs**2)) * ((OD*OVu/OVv).dot(OX.T**2)))\n",
    "    OBs = abs(OBs - eps * (OBs*exp(-OBs**2)) * ((OD*OVu/OVv)))\n",
    "    \n",
    "    HY = 0.5 + 0.5 * sign(dot(transpose(OA), OY))\n",
    "    \n",
    "    HJ  = -exp(-(-HV )**2/HVv)/sqrt(pi)/HVs\n",
    "    HJu = -exp(-(-HVu)**2/HVv)/sqrt(pi)/HVs\n",
    "    HD = delta(HJ, HY, HP)\n",
    "    HAu = HAu + eps * (HD).dot(HX.T)\n",
    "    HBu = HBu + eps * (HD)\n",
    "    #正則化する\n",
    "    HAs = abs(HAs - eps * (HAs*exp(-HAs**2)) * ((HD*HVu/HVv).dot(HX.T**2)))\n",
    "    HBs = abs(HBs - eps * (HBs*exp(-HBs**2)) * ((HD*HVu/HVv)))\n",
    "    \n",
    "    err.append(dot(E.T, E)[0])\n",
    "    if k > epoch - 6:\n",
    "        display(k, Y.T, OP.T)\n",
    "    \n",
    "display(HAs,HBs,OAs,OBs)\n",
    "plot(log(err))"
   ]
  },
  {
   "cell_type": "code",
   "execution_count": 387,
   "metadata": {
    "collapsed": false,
    "scrolled": true
   },
   "outputs": [
    {
     "name": "stderr",
     "output_type": "stream",
     "text": [
      "/Users/Kota/Library/Python/2.7/lib/python/site-packages/ipykernel/__main__.py:36: RuntimeWarning: invalid value encountered in divide\n",
      "/Users/Kota/Library/Python/2.7/lib/python/site-packages/ipykernel/__main__.py:36: RuntimeWarning: divide by zero encountered in divide\n"
     ]
    },
    {
     "data": {
      "text/plain": [
       "array([[ 0.22282884,  0.23835996,  0.32085412],\n",
       "       [ 0.27643672,  0.09219471,  0.07232988],\n",
       "       [ 0.26983959,  0.07899442,  0.09288979],\n",
       "       [ 0.00591559,  0.09463792,  0.29062414]])"
      ]
     },
     "metadata": {},
     "output_type": "display_data"
    },
    {
     "data": {
      "text/plain": [
       "array([[ 0.00908656],\n",
       "       [ 0.0018492 ],\n",
       "       [ 0.00306801],\n",
       "       [ 0.08646544]])"
      ]
     },
     "metadata": {},
     "output_type": "display_data"
    },
    {
     "data": {
      "text/plain": [
       "array([[ 0.,  0.,  0.,  0.]])"
      ]
     },
     "metadata": {},
     "output_type": "display_data"
    },
    {
     "data": {
      "text/plain": [
       "array([[  3.22586402e-12,   0.00000000e+00,   0.00000000e+00,\n",
       "          9.99999991e-01]])"
      ]
     },
     "metadata": {},
     "output_type": "display_data"
    },
    {
     "data": {
      "text/plain": [
       "array([[  0.00000000e+00,   4.34935421e-11,   1.00000000e+00,\n",
       "          0.00000000e+00]])"
      ]
     },
     "metadata": {},
     "output_type": "display_data"
    },
    {
     "data": {
      "text/plain": [
       "array([[  0.00000000e+00,   1.00000000e+00,   0.00000000e+00,\n",
       "          1.73447923e-11]])"
      ]
     },
     "metadata": {},
     "output_type": "display_data"
    },
    {
     "data": {
      "text/plain": [
       "array([[  9.99999997e-01,   7.77156117e-16,   2.77555756e-15,\n",
       "          0.00000000e+00]])"
      ]
     },
     "metadata": {},
     "output_type": "display_data"
    },
    {
     "name": "stderr",
     "output_type": "stream",
     "text": [
      "/Users/Kota/Library/Python/2.7/lib/python/site-packages/ipykernel/__main__.py:55: RuntimeWarning: divide by zero encountered in log\n"
     ]
    },
    {
     "data": {
      "text/plain": [
       "[<matplotlib.lines.Line2D at 0x1a7d88d10>]"
      ]
     },
     "execution_count": 387,
     "metadata": {},
     "output_type": "execute_result"
    },
    {
     "data": {
      "image/png": "[encoded data removed]",
      "text/plain": [
       "<matplotlib.figure.Figure at 0x1a7981190>"
      ]
     },
     "metadata": {},
     "output_type": "display_data"
    }
   ],
   "source": [
    "#プロトタイプ 1層\n",
    "%matplotlib inline\n",
    "from IPython.display import display\n",
    "from matplotlib.pylab import *\n",
    "from scipy.special import *\n",
    "I=map(lambda v:transpose(array([v],dtype='float64')),[[0,0,0  ],[0,0,1  ],[0,1,0  ],[0,1,1  ],[1,0,0  ]])\n",
    "O=map(lambda v:transpose(array([v],dtype='float64')),[[0,0,0,0],[0,0,0,1],[0,0,1,0],[0,1,0,0],[1,0,0,0]])\n",
    "WU = normal(size=(4,3))\n",
    "WS = ones(shape(WU))\n",
    "BU = normal(size=(4,1))\n",
    "BS = ones(shape(BU))\n",
    "\n",
    "eps = 0.1\n",
    "err = []\n",
    "epoch = 5 * ( 2 ** 11 )\n",
    "for k in range(epoch):\n",
    "    X = I[ k % 5 ]\n",
    "    Y = O[ k % 5 ]\n",
    "    \n",
    "    W = normal(size=shape(WU))*WS+WU\n",
    "    B = normal(size=shape(BU))*BS+BU\n",
    "    \n",
    "    V = dot(W, X) + B\n",
    "    \n",
    "    VU = dot(WU,    X   ) + BU\n",
    "    VV = dot(WS**2, X**2) + BS ** 2\n",
    "    VS = sqrt(VV)\n",
    "    \n",
    "    H = 0 < V\n",
    "    F = 0.5 + 0.5 * erf(- V/VS/sqrt(2))\n",
    "    P = 0.5 + 0.5 * erf(-VU/VS/sqrt(2))\n",
    "    \n",
    "    E = Y - F\n",
    "    J = exp(-VU**2/VV)/sqrt(pi)/VS\n",
    "    G = exp(- V**2/VV)/sqrt(pi)/VS\n",
    "    D = -G * ((Y)/(F)-(1-Y)/(1-F))\n",
    "    D[isnan(D)] = 0\n",
    "    D[isinf(D)] = pi * sign(D[isinf(D)])\n",
    "    WU = WU + eps * (D).dot(X.T)\n",
    "    BU = BU + eps * (D)\n",
    "    WS = abs(WS - eps * (WS) * ((D*VU/VV).dot(X.T**2)))\n",
    "    BS = abs(BS - eps * (BS) * ((D*VU/VV)))\n",
    "    \n",
    "    err.append(dot(E.T, E)[0])\n",
    "\n",
    "display(WS,BS)\n",
    "for k in range(5):\n",
    "    X = I[k]\n",
    "    VU = dot(WU,    X   )+BU\n",
    "    VV = dot(WS**2, X**2)+BS**2\n",
    "    VS = sqrt(VV)\n",
    "    F = 0.5 + 0.5 * erf(-VU/VS/sqrt(2))\n",
    "    display(F.T)\n",
    "\n",
    "plot(log(err))"
   ]
  },
  {
   "cell_type": "code",
   "execution_count": 718,
   "metadata": {
    "collapsed": false
   },
   "outputs": [
    {
     "name": "stderr",
     "output_type": "stream",
     "text": [
      "/Users/Kota/Library/Python/2.7/lib/python/site-packages/ipykernel/__main__.py:40: RuntimeWarning: invalid value encountered in divide\n",
      "/Users/Kota/Library/Python/2.7/lib/python/site-packages/ipykernel/__main__.py:28: RuntimeWarning: divide by zero encountered in divide\n",
      "/Users/Kota/Library/Python/2.7/lib/python/site-packages/ipykernel/__main__.py:29: RuntimeWarning: invalid value encountered in multiply\n",
      "/Users/Kota/Library/Python/2.7/lib/python/site-packages/ipykernel/__main__.py:40: RuntimeWarning: divide by zero encountered in divide\n",
      "/Users/Kota/Library/Python/2.7/lib/python/site-packages/ipykernel/__main__.py:41: RuntimeWarning: invalid value encountered in multiply\n",
      "/Users/Kota/Library/Python/2.7/lib/python/site-packages/ipykernel/__main__.py:28: RuntimeWarning: invalid value encountered in divide\n"
     ]
    },
    {
     "data": {
      "image/png": "[encoded data removed]",
      "text/latex": [
       "$$0$$"
      ],
      "text/plain": [
       "0"
      ]
     },
     "metadata": {},
     "output_type": "display_data"
    },
    {
     "data": {
      "text/plain": [
       "array([[ 0.,  0.,  0.,  0.]])"
      ]
     },
     "metadata": {},
     "output_type": "display_data"
    },
    {
     "data": {
      "text/plain": [
       "array([[  1.00000000e+00,   0.00000000e+00,   6.35214104e-13,\n",
       "          1.00000000e+00]])"
      ]
     },
     "metadata": {},
     "output_type": "display_data"
    },
    {
     "data": {
      "image/png": "[encoded data removed]",
      "text/latex": [
       "$$1$$"
      ],
      "text/plain": [
       "1"
      ]
     },
     "metadata": {},
     "output_type": "display_data"
    },
    {
     "data": {
      "text/plain": [
       "array([[ 0.,  0.,  0.,  1.]])"
      ]
     },
     "metadata": {},
     "output_type": "display_data"
    },
    {
     "data": {
      "text/plain": [
       "array([[  1.00000000e+00,   1.22124533e-14,   0.00000000e+00,\n",
       "          1.00000000e+00]])"
      ]
     },
     "metadata": {},
     "output_type": "display_data"
    },
    {
     "data": {
      "image/png": "[encoded data removed]",
      "text/latex": [
       "$$2$$"
      ],
      "text/plain": [
       "2"
      ]
     },
     "metadata": {},
     "output_type": "display_data"
    },
    {
     "data": {
      "text/plain": [
       "array([[ 0.,  0.,  1.,  0.]])"
      ]
     },
     "metadata": {},
     "output_type": "display_data"
    },
    {
     "data": {
      "text/plain": [
       "array([[  1.00000000e+00,   1.02146069e-12,   4.76039852e-01,\n",
       "          1.00000000e+00]])"
      ]
     },
     "metadata": {},
     "output_type": "display_data"
    },
    {
     "data": {
      "image/png": "[encoded data removed]",
      "text/latex": [
       "$$3$$"
      ],
      "text/plain": [
       "3"
      ]
     },
     "metadata": {},
     "output_type": "display_data"
    },
    {
     "data": {
      "text/plain": [
       "array([[ 0.,  0.,  1.,  1.]])"
      ]
     },
     "metadata": {},
     "output_type": "display_data"
    },
    {
     "data": {
      "text/plain": [
       "array([[  1.00000000e+00,   9.92121392e-01,   5.99520433e-15,\n",
       "          1.00000000e+00]])"
      ]
     },
     "metadata": {},
     "output_type": "display_data"
    },
    {
     "data": {
      "image/png": "[encoded data removed]",
      "text/latex": [
       "$$4$$"
      ],
      "text/plain": [
       "4"
      ]
     },
     "metadata": {},
     "output_type": "display_data"
    },
    {
     "data": {
      "text/plain": [
       "array([[ 0.,  1.,  0.,  0.]])"
      ]
     },
     "metadata": {},
     "output_type": "display_data"
    },
    {
     "data": {
      "text/plain": [
       "array([[ 1.,  0.,  0.,  1.]])"
      ]
     },
     "metadata": {},
     "output_type": "display_data"
    },
    {
     "data": {
      "text/plain": [
       "[<matplotlib.lines.Line2D at 0x1dd8a4290>]"
      ]
     },
     "execution_count": 718,
     "metadata": {},
     "output_type": "execute_result"
    },
    {
     "data": {
      "image/png": "[encoded data removed]",
      "text/plain": [
       "<matplotlib.figure.Figure at 0x1dbd26b90>"
      ]
     },
     "metadata": {},
     "output_type": "display_data"
    }
   ],
   "source": [
    "#角層クロスエントロピー\n",
    "%matplotlib inline\n",
    "from IPython.display import display\n",
    "from matplotlib.pylab import *\n",
    "I=map(lambda v:transpose(array([v],dtype='float64')),[[0,0,0,0],[0,0,0,1],[0,0,1,0],[0,0,1,1],[0,1,0,0]])\n",
    "O=map(lambda v:transpose(array([v],dtype='float64')),[[0,0,0,0],[0,0,0,1],[0,0,1,0],[0,1,0,0],[1,0,0,0]])\n",
    "HB=normal(0, 0.1, (4, 1))\n",
    "HW=normal(0, 0.1, (4, 4))\n",
    "OB=normal(0, 0.1, (4, 1))\n",
    "OW=normal(0, 0.1, (4, 4))\n",
    "\n",
    "eps = 0.001\n",
    "k = 0\n",
    "r = 8\n",
    "err = []\n",
    "for idx in range(2**14):\n",
    "    k = idx % 5\n",
    "    Ik = I[k]\n",
    "    Ok = O[k]\n",
    "    HO = (0.5 + 0.5 * tanh(r*(dot(HW, Ik)+HB)))# > uniform(0, 1, (16, 1))\n",
    "    OO = (0.5 + 0.5 * tanh(r*(dot(OW, HO)+OB)))# > uniform(0, 1, (4, 1))\n",
    "\n",
    "    E = Ok - OO\n",
    "    err.append(E.T.dot(E)[0])\n",
    "\n",
    "    #O update\n",
    "    E = Ok - OO\n",
    "    C = (Ok)/(OO) - (1-Ok)/(1-OO)\n",
    "    DB = r * ( 1 - OO * OO ) * C\n",
    "    DB[isnan(DB)] = 0\n",
    "    DB[isinf(DB)] = sign(DB[isinf(DB)])\n",
    "    DX = 0.5 + 0.5 * tanh(r * dot(inv(OW), Ok))\n",
    "    \n",
    "    DW = dot(DB, transpose(HO))\n",
    "    OW = OW + eps * DW\n",
    "    OB = OB + eps * DB\n",
    "\n",
    "    #H update\n",
    "    E = DX - HO\n",
    "    C = (DX)/(HO) - (1-DX)/(1-HO)\n",
    "    DB = r * ( 1 - HO * HO ) * C\n",
    "    DB[isnan(DB)] = 0\n",
    "    DB[isinf(DB)] = sign(DB[isinf(DB)])\n",
    "    DX = dot(transpose(HW), DB)\n",
    "    \n",
    "    DW = dot(DB, transpose(Ik))\n",
    "    HW = HW + eps * DW\n",
    "    HB = HB + eps * DB\n",
    "\n",
    "for k in range(5):\n",
    "    Ik = I[k]\n",
    "    Ok = O[k]\n",
    "    HO = 0.5 + 0.5 * tanh(r*(dot(HW, Ik)+HB))\n",
    "    OO = 0.5 + 0.5 * tanh(r*(dot(OW, HO)+OB))\n",
    "    display(k, Ik.T, OO.T)\n",
    "\n",
    "plot(log(err))"
   ]
  },
  {
   "cell_type": "code",
   "execution_count": 46,
   "metadata": {
    "collapsed": false
   },
   "outputs": [
    {
     "data": {
      "text/plain": [
       "0"
      ]
     },
     "metadata": {},
     "output_type": "display_data"
    },
    {
     "data": {
      "text/plain": [
       "array([[0, 0, 0, 0]])"
      ]
     },
     "metadata": {},
     "output_type": "display_data"
    },
    {
     "data": {
      "text/plain": [
       "array([[ 1.,  1.,  1.,  1.]])"
      ]
     },
     "metadata": {},
     "output_type": "display_data"
    },
    {
     "data": {
      "text/plain": [
       "1"
      ]
     },
     "metadata": {},
     "output_type": "display_data"
    },
    {
     "data": {
      "text/plain": [
       "array([[0, 0, 0, 1]])"
      ]
     },
     "metadata": {},
     "output_type": "display_data"
    },
    {
     "data": {
      "text/plain": [
       "array([[ 1.,  1.,  1.,  1.]])"
      ]
     },
     "metadata": {},
     "output_type": "display_data"
    },
    {
     "data": {
      "text/plain": [
       "2"
      ]
     },
     "metadata": {},
     "output_type": "display_data"
    },
    {
     "data": {
      "text/plain": [
       "array([[0, 0, 1, 0]])"
      ]
     },
     "metadata": {},
     "output_type": "display_data"
    },
    {
     "data": {
      "text/plain": [
       "array([[ 1.,  1.,  1.,  1.]])"
      ]
     },
     "metadata": {},
     "output_type": "display_data"
    },
    {
     "data": {
      "text/plain": [
       "3"
      ]
     },
     "metadata": {},
     "output_type": "display_data"
    },
    {
     "data": {
      "text/plain": [
       "array([[0, 0, 1, 1]])"
      ]
     },
     "metadata": {},
     "output_type": "display_data"
    },
    {
     "data": {
      "text/plain": [
       "array([[ 1.,  1.,  1.,  1.]])"
      ]
     },
     "metadata": {},
     "output_type": "display_data"
    },
    {
     "data": {
      "text/plain": [
       "4"
      ]
     },
     "metadata": {},
     "output_type": "display_data"
    },
    {
     "data": {
      "text/plain": [
       "array([[0, 1, 0, 0]])"
      ]
     },
     "metadata": {},
     "output_type": "display_data"
    },
    {
     "data": {
      "text/plain": [
       "array([[ 1.,  1.,  1.,  1.]])"
      ]
     },
     "metadata": {},
     "output_type": "display_data"
    },
    {
     "data": {
      "text/plain": [
       "[<matplotlib.lines.Line2D at 0x10f107e90>]"
      ]
     },
     "execution_count": 46,
     "metadata": {},
     "output_type": "execute_result"
    },
    {
     "data": {
      "image/png": "[encoded data removed]",
      "text/plain": [
       "<matplotlib.figure.Figure at 0x1086c5e90>"
      ]
     },
     "metadata": {},
     "output_type": "display_data"
    }
   ],
   "source": [
    "#角層最急降下法\n",
    "%matplotlib inline\n",
    "from IPython.display import display\n",
    "from matplotlib.pylab import *\n",
    "I=map(lambda v:transpose(array([v])),[[0,0,0,0],[0,0,0,1],[0,0,1,0],[0,0,1,1],[0,1,0,0]])\n",
    "O=map(lambda v:transpose(array([v])),[[0,0,0,0],[0,0,0,1],[0,0,1,0],[0,1,0,0],[1,0,0,0]])\n",
    "HB=normal(0, 1, (16, 1))\n",
    "HW=normal(0, 1, (16, 4))\n",
    "OB=normal(0, 1, (4,  1))\n",
    "OW=normal(0, 1, (4, 16))\n",
    "\n",
    "eps = 0.05\n",
    "k = 0\n",
    "r = 8\n",
    "err = []\n",
    "for idx in range(2**16):\n",
    "    k = idx % 5\n",
    "    Ik = I[k]\n",
    "    Ok = O[k]\n",
    "    HO = (0.5 + 0.5 * tanh(r*(dot(HW, Ik)+HB)))# > uniform(0, 1, (16, 1))\n",
    "    OO = (0.5 + 0.5 * tanh(r*(dot(OW, HO)+OB)))# > uniform(0, 1, (4, 1))\n",
    "\n",
    "    E = Ok - OO\n",
    "    err.append(E.T.dot(E)[0])\n",
    "\n",
    "    #O update\n",
    "    DB = r * ( 1 - OO * OO ) * ( Ok - OO )\n",
    "    DX = dot(transpose(OW), Ok)\n",
    "    \n",
    "    OW = OW + eps * dot(DB, transpose(HO))\n",
    "    OB = OB + eps * DB\n",
    "\n",
    "    #H update\n",
    "    DB = r * ( 1 - HO * HO ) * ( DX - HO )\n",
    "    DX = dot(transpose(HW), DB)\n",
    "    \n",
    "    DW = dot(DB, transpose(Ik))\n",
    "    HW = HW + eps * DW\n",
    "    HB = HB + eps * DB\n",
    "\n",
    "for k in range(5):\n",
    "    Ik = I[k]\n",
    "    Ok = O[k]\n",
    "    HO = 0.5 + 0.5 * tanh(r*(dot(HW, Ik)+HB))\n",
    "    OO = 0.5 + 0.5 * tanh(r*(dot(OW, HO)+OB))\n",
    "    display(k, Ik.T, OO.T)\n",
    "\n",
    "plot(log(err))"
   ]
  },
  {
   "cell_type": "code",
   "execution_count": 257,
   "metadata": {
    "collapsed": false
   },
   "outputs": [
    {
     "data": {
      "text/plain": [
       "0"
      ]
     },
     "metadata": {},
     "output_type": "display_data"
    },
    {
     "data": {
      "text/plain": [
       "array([[0, 0, 0, 0]])"
      ]
     },
     "metadata": {},
     "output_type": "display_data"
    },
    {
     "data": {
      "text/plain": [
       "array([[  3.86025784e-09,   0.00000000e+00,   3.17650951e-08,\n",
       "          2.58843008e-09]])"
      ]
     },
     "metadata": {},
     "output_type": "display_data"
    },
    {
     "data": {
      "text/plain": [
       "1"
      ]
     },
     "metadata": {},
     "output_type": "display_data"
    },
    {
     "data": {
      "text/plain": [
       "array([[0, 0, 0, 1]])"
      ]
     },
     "metadata": {},
     "output_type": "display_data"
    },
    {
     "data": {
      "text/plain": [
       "array([[  1.39200062e-06,   2.17866038e-04,   0.00000000e+00,\n",
       "          9.83591835e-01]])"
      ]
     },
     "metadata": {},
     "output_type": "display_data"
    },
    {
     "data": {
      "text/plain": [
       "2"
      ]
     },
     "metadata": {},
     "output_type": "display_data"
    },
    {
     "data": {
      "text/plain": [
       "array([[0, 0, 1, 0]])"
      ]
     },
     "metadata": {},
     "output_type": "display_data"
    },
    {
     "data": {
      "text/plain": [
       "array([[  2.54796184e-14,   2.90286239e-10,   9.99996296e-01,\n",
       "          0.00000000e+00]])"
      ]
     },
     "metadata": {},
     "output_type": "display_data"
    },
    {
     "data": {
      "text/plain": [
       "3"
      ]
     },
     "metadata": {},
     "output_type": "display_data"
    },
    {
     "data": {
      "text/plain": [
       "array([[0, 0, 1, 1]])"
      ]
     },
     "metadata": {},
     "output_type": "display_data"
    },
    {
     "data": {
      "text/plain": [
       "array([[  1.16173583e-05,   9.88799466e-01,   1.87627691e-14,\n",
       "          4.62872728e-04]])"
      ]
     },
     "metadata": {},
     "output_type": "display_data"
    },
    {
     "data": {
      "text/plain": [
       "4"
      ]
     },
     "metadata": {},
     "output_type": "display_data"
    },
    {
     "data": {
      "text/plain": [
       "array([[0, 1, 0, 0]])"
      ]
     },
     "metadata": {},
     "output_type": "display_data"
    },
    {
     "data": {
      "text/plain": [
       "array([[  9.96414485e-01,   3.49154039e-12,   6.83682873e-08,\n",
       "          4.48720050e-09]])"
      ]
     },
     "metadata": {},
     "output_type": "display_data"
    },
    {
     "data": {
      "text/plain": [
       "[<matplotlib.lines.Line2D at 0x165be8810>]"
      ]
     },
     "execution_count": 257,
     "metadata": {},
     "output_type": "execute_result"
    },
    {
     "data": {
      "image/png": "[encoded data removed]",
      "text/plain": [
       "<matplotlib.figure.Figure at 0x16523ebd0>"
      ]
     },
     "metadata": {},
     "output_type": "display_data"
    }
   ],
   "source": [
    "#ただの最急降下法\n",
    "%matplotlib inline\n",
    "from IPython.display import display\n",
    "from matplotlib.pylab import *\n",
    "I=map(lambda v:transpose(array([v])),[[0,0,0,0],[0,0,0,1],[0,0,1,0],[0,0,1,1],[0,1,0,0]])\n",
    "O=map(lambda v:transpose(array([v])),[[0,0,0,0],[0,0,0,1],[0,0,1,0],[0,1,0,0],[1,0,0,0]])\n",
    "HB=normal(0, 1, (16, 1))\n",
    "HW=normal(0, 1, (16, 4))\n",
    "OB=normal(0, 1, (4,  1))\n",
    "OW=normal(0, 1, (4, 16))\n",
    "\n",
    "eps = 0.01\n",
    "k = 0\n",
    "r = 8\n",
    "err = []\n",
    "for idx in range(2**16):\n",
    "    k = idx % 5\n",
    "    Ik = I[k]\n",
    "    Ok = O[k]\n",
    "    HO = (0.5 + 0.5 * tanh(r*(dot(HW, Ik)+HB)))# > uniform(0, 1, (16, 1))\n",
    "    OO = (0.5 + 0.5 * tanh(r*(dot(OW, HO)+OB)))# > uniform(0, 1, (4, 1))\n",
    "\n",
    "    DX = Ok - OO\n",
    "    E = Ok - OO\n",
    "    err.append(E.T.dot(E)[0])\n",
    "\n",
    "    #O update\n",
    "    DB = DX * r * (1 - OO * OO)\n",
    "    DX = dot(transpose(OW), DB)\n",
    "    \n",
    "    OW = OW + eps * dot(DB, transpose(HO))\n",
    "    OB = OB + eps * DB\n",
    "\n",
    "    #H update\n",
    "    DB = DX * r * (1 - HO * HO)\n",
    "    DX = dot(transpose(HW), DB)\n",
    "    \n",
    "    DW = dot(DB, transpose(Ik))\n",
    "    HW = HW + eps * DW\n",
    "    HB = HB + eps * DB\n",
    "\n",
    "for k in range(5):\n",
    "    Ik = I[k]\n",
    "    Ok = O[k]\n",
    "    HO = 0.5 + 0.5 * tanh(r*(dot(HW, Ik)+HB))\n",
    "    OO = 0.5 + 0.5 * tanh(r*(dot(OW, HO)+OB))\n",
    "    display(k, Ik.T, OO.T)\n",
    "    \n",
    "plot(log(err))"
   ]
  },
  {
   "cell_type": "code",
   "execution_count": 333,
   "metadata": {
    "collapsed": false
   },
   "outputs": [
    {
     "data": {
      "text/plain": [
       "array([ 1.,  2.])"
      ]
     },
     "metadata": {},
     "output_type": "display_data"
    }
   ],
   "source": [
    "A = array([1.0,2.0,3.0])\n",
    "B = array([1,1,0])\n",
    "M = array([True, True, False])\n",
    "display(A[M]/B[M])"
   ]
  }
 ],
 "metadata": {
  "kernelspec": {
   "display_name": "Python 2",
   "language": "python",
   "name": "python2"
  },
  "language_info": {
   "codemirror_mode": {
    "name": "ipython",
    "version": 2
   },
   "file_extension": ".py",
   "mimetype": "text/x-python",
   "name": "python",
   "nbconvert_exporter": "python",
   "pygments_lexer": "ipython2",
   "version": "2.7.10"
  }
 },
 "nbformat": 4,
 "nbformat_minor": 0
}
