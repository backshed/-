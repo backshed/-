{
 "cells": [
  {
   "cell_type": "code",
   "execution_count": null,
   "metadata": {
    "collapsed": false
   },
   "outputs": [],
   "source": [
    "#C3\n",
    "%matplotlib inline\n",
    "from IPython.display import display\n",
    "from matplotlib.pylab import *\n",
    "from scipy.special import *\n",
    "\n",
    "I=map(lambda v:transpose(array([v],dtype='float64')),[[0,0,0,0],[0,0,0,1],[0,0,1,0],[0,0,1,1],[0,1,0,0]])\n",
    "O=map(lambda v:transpose(array([v],dtype='float64')),[[0,0,0,0],[0,0,0,1],[0,0,1,0],[0,1,0,0],[1,0,0,0]])\n",
    "\n",
    "if True:\n",
    "    HAu = normal(size=(64,64))\n",
    "    HAs = ones(shape(HAu))\n",
    "\n",
    "    HBu = zeros((64,1))\n",
    "    HBs = ones(shape(HBu))\n",
    "    \n",
    "    GAu = normal(size=(64,64))\n",
    "    GAs = ones(shape(GAu))\n",
    "\n",
    "    GBu = zeros((64,1))\n",
    "    GBs = ones(shape(GBu))\n",
    "\n",
    "    OAu = normal(size=(1,64))\n",
    "    OAs = ones(shape(OAu))\n",
    "\n",
    "    OBu = zeros((1,1))\n",
    "    OBs = ones(shape(OBu))\n",
    "\n",
    "eps = 0.05\n",
    "epoch = 2 ** 20\n",
    "\n",
    "def delta(J, D, P):\n",
    "    E = - J * ((D)/(P)-(1-D)/(1-P))\n",
    "    NG = logical_or(isnan(E), isinf(E))\n",
    "    E[NG] = 0\n",
    "    return E\n",
    "\n",
    "for k in range(epoch):\n",
    "    X = zeros((64,1))\n",
    "    Y = zeros((1,1))\n",
    "\n",
    "    x = uniform()\n",
    "    y = uniform()\n",
    "    \n",
    "    if 0.5 < x and 0.5 > y:\n",
    "        continue\n",
    "    \n",
    "    for p in range(32):\n",
    "        X[0+p,0] = p/32.0 < x\n",
    "        X[32+p,0] = p/32.0 < y\n",
    "    \n",
    "    Y[0,0] = 0.3 < sqrt((x-0.6)**2+(y-0.4)**2) and sqrt((x-0.6)**2+(y-0.4)**2) < 0.4\n",
    "#    Y[0,0] = 2*(x-0.8)-0.2<(y-0.8)\n",
    "#    Y[0,0] = float(not (fabs(x-0.5)<0.25 or fabs(y-0.5)<0.25))\n",
    "#    Y[0,0] = float((x-0.5)*(y-0.5)<0)\n",
    "#    Y[0,0] = float(sin(4*pi*x)>y)\n",
    "    \n",
    "    HX = X\n",
    "    HA = normal(size=shape(HAu))*HAs+HAu\n",
    "    HB = normal(size=shape(HBu))*HBs+HBu\n",
    "    \n",
    "    HVu = dot(HAu,    HX   ) + HBu\n",
    "    HVv = dot(HAs**2, HX**2) + HBs**2\n",
    "    HVs = sqrt(HVv)\n",
    "    \n",
    "    HF = 0 < dot(HA, HX) + HB\n",
    "    HP = 0.5 + 0.5 * erf(HVu/HVs/sqrt(2))\n",
    "    \n",
    "    GX = HF\n",
    "    GA = normal(size=shape(GAu))*GAs+GAu\n",
    "    GB = normal(size=shape(GBu))*GBs+GBu\n",
    "    \n",
    "    GVu = dot(GAu,    GX   ) + GBu\n",
    "    GVv = dot(GAs**2, GX**2) + GBs**2\n",
    "    GVs = sqrt(GVv)\n",
    "    \n",
    "    GF  = 0 < dot(GA, GX) + GB\n",
    "    GP = 0.5 + 0.5 * erf(GVu/GVs/sqrt(2))\n",
    "    \n",
    "    OX = GF\n",
    "    OA = normal(size=shape(OAu))*OAs+OAu\n",
    "    OB = normal(size=shape(OBu))*OBs+OBu\n",
    "    \n",
    "    OVu = dot(OAu,    OX   ) + OBu\n",
    "    OVv = dot(OAs**2, OX**2) + OBs**2\n",
    "    OVs = sqrt(OVv)\n",
    "    \n",
    "    OF  = 0 < dot(OA, OX) + OB\n",
    "    OP = 0.5 + 0.5 * erf(OVu/OVs/sqrt(2))\n",
    "    \n",
    "    OY = Y\n",
    "    \n",
    "    OJ = -exp(-(-OVu)**2/OVv/2.0)/sqrt(pi)/OVs/sqrt(2)\n",
    "    OD = delta(OJ, OY, OP)\n",
    "    GY = 0.5 + 0.5 * sign(dot(OA.T, OY))\n",
    "    GD = dot(OA.T, -OD)\n",
    "#    GY = GF + eps * dot(OA.T, -OD)\n",
    "    OAu = OAu + eps * (OD).dot(OX.T)\n",
    "    OBu = OBu + eps * (OD)\n",
    "    OAs = abs(OAs - eps * (OAs) * ((OD*OVu/OVv).dot(OX.T**2)))\n",
    "    OBs = abs(OBs - eps * (OBs) * ((OD*OVu/OVv)))\n",
    "\n",
    "    GJ = -exp(-(-GVu)**2/GVv/2.0)/sqrt(pi)/GVs/sqrt(2)\n",
    "#    GD = delta(GJ, GY, GP)\n",
    "    GD *= GJ\n",
    "    HY = 0.5 + 0.5 * sign(dot(GA.T, GY))\n",
    "    HD = dot(GA.T, -GD)\n",
    "    HY = HF + eps * dot(GA.T, -GD)\n",
    "    GAu = GAu + eps * (GD).dot(GX.T)\n",
    "    GBu = GBu + eps * (GD)\n",
    "    GAs = abs(GAs - eps * (GAs) * ((GD*GVu/GVv).dot(GX.T**2)))\n",
    "    GBs = abs(GBs - eps * (GBs) * ((GD*GVu/GVv)))\n",
    "    \n",
    "    HJ = -exp(-(-HVu)**2/HVv/2.0)/sqrt(pi)/HVs/sqrt(2)\n",
    "#    HD = delta(HJ, HY, HP)\n",
    "    HD *= HJ\n",
    "    HAu = HAu + eps * (HD).dot(HX.T)\n",
    "    HBu = HBu + eps * (HD)\n",
    "    HAs = abs(HAs - eps * (HAs) * ((HD*HVu/HVv).dot(HX.T**2)))\n",
    "    HBs = abs(HBs - eps * (HBs) * ((HD*HVu/HVv)))\n",
    "    \n",
    "img = zeros((64,64))\n",
    "for i in range(4096*16):\n",
    "    k = i / 16\n",
    "    w = k / 64\n",
    "    h = k % 64\n",
    "    x = w / 64.0\n",
    "    y = h / 64.0\n",
    "    \n",
    "    for p in range(32):\n",
    "        X[0+p,0] = p/32.0 < x\n",
    "        X[32+p,0] = p/32.0 < y\n",
    "    \n",
    "    HX = X\n",
    "    HA = normal(size=shape(HAu))*HAs+HAu\n",
    "    HB = normal(size=shape(HBu))*HBs+HBu\n",
    "    \n",
    "    HVu = dot(HAu,    HX   ) + HBu\n",
    "    HVv = dot(HAs**2, HX**2) + HBs**2\n",
    "    HVs = sqrt(HVv)\n",
    "    \n",
    "    HF  = 0 < dot(HA, HX) + HB\n",
    "    HP = 0.5 + 0.5 * erf(HVu/HVs/sqrt(2))\n",
    "    \n",
    "    GX = HF\n",
    "    GA = normal(size=shape(GAu))*GAs+GAu\n",
    "    GB = normal(size=shape(GBu))*GBs+GBu\n",
    "    \n",
    "    GVu = dot(GAu,    GX   ) + GBu\n",
    "    GVv = dot(GAs**2, GX**2) + GBs**2\n",
    "    GVs = sqrt(GVv)\n",
    "    \n",
    "    GF  = 0 < dot(GA, GX) + GB\n",
    "    GP = 0.5 + 0.5 * erf(GVu/GVs/sqrt(2))\n",
    "    \n",
    "    OX = GF\n",
    "    OA = normal(size=shape(OAu))*OAs+OAu\n",
    "    OB = normal(size=shape(OBu))*OBs+OBu\n",
    "    \n",
    "    OVu = dot(OAu,    OX   ) + OBu\n",
    "    OVv = dot(OAs**2, OX**2) + OBs**2\n",
    "    OVs = sqrt(OVv)\n",
    "    \n",
    "    OF  = 0 < dot(OA, OX) + OB\n",
    "    OP = 0.5 + 0.5 * erf(OVu/OVs/sqrt(2))\n",
    "    \n",
    "    img[w, h] += OP[0,0]\n",
    "\n",
    "imshow(img)"
   ]
  },
  {
   "cell_type": "code",
   "execution_count": 37,
   "metadata": {
    "collapsed": false
   },
   "outputs": [
    {
     "name": "stderr",
     "output_type": "stream",
     "text": [
      "/Users/Kota/Library/Python/2.7/lib/python/site-packages/ipykernel/__main__.py:28: RuntimeWarning: invalid value encountered in divide\n",
      "/Users/Kota/Library/Python/2.7/lib/python/site-packages/ipykernel/__main__.py:28: RuntimeWarning: divide by zero encountered in divide\n"
     ]
    },
    {
     "data": {
      "text/plain": [
       "40955"
      ]
     },
     "metadata": {},
     "output_type": "display_data"
    },
    {
     "data": {
      "text/plain": [
       "array([[ 0.,  0.,  0.,  0.]])"
      ]
     },
     "metadata": {},
     "output_type": "display_data"
    },
    {
     "data": {
      "text/plain": [
       "array([[ 0.0640693,  0.       ,  0.       ,  0.       ]])"
      ]
     },
     "metadata": {},
     "output_type": "display_data"
    },
    {
     "data": {
      "text/plain": [
       "40956"
      ]
     },
     "metadata": {},
     "output_type": "display_data"
    },
    {
     "data": {
      "text/plain": [
       "array([[ 0.,  0.,  0.,  1.]])"
      ]
     },
     "metadata": {},
     "output_type": "display_data"
    },
    {
     "data": {
      "text/plain": [
       "array([[  0.00000000e+00,   6.28783936e-09,   0.00000000e+00,\n",
       "          9.99478480e-01]])"
      ]
     },
     "metadata": {},
     "output_type": "display_data"
    },
    {
     "data": {
      "text/plain": [
       "40957"
      ]
     },
     "metadata": {},
     "output_type": "display_data"
    },
    {
     "data": {
      "text/plain": [
       "array([[ 0.,  0.,  1.,  0.]])"
      ]
     },
     "metadata": {},
     "output_type": "display_data"
    },
    {
     "data": {
      "text/plain": [
       "array([[ 0.        ,  0.        ,  0.99624854,  0.        ]])"
      ]
     },
     "metadata": {},
     "output_type": "display_data"
    },
    {
     "data": {
      "text/plain": [
       "40958"
      ]
     },
     "metadata": {},
     "output_type": "display_data"
    },
    {
     "data": {
      "text/plain": [
       "array([[ 0.,  1.,  0.,  0.]])"
      ]
     },
     "metadata": {},
     "output_type": "display_data"
    },
    {
     "data": {
      "text/plain": [
       "array([[ 0.        ,  0.99906928,  0.        ,  0.        ]])"
      ]
     },
     "metadata": {},
     "output_type": "display_data"
    },
    {
     "data": {
      "text/plain": [
       "40959"
      ]
     },
     "metadata": {},
     "output_type": "display_data"
    },
    {
     "data": {
      "text/plain": [
       "array([[ 1.,  0.,  0.,  0.]])"
      ]
     },
     "metadata": {},
     "output_type": "display_data"
    },
    {
     "data": {
      "text/plain": [
       "array([[  9.93008801e-01,   2.22044605e-16,   0.00000000e+00,\n",
       "          0.00000000e+00]])"
      ]
     },
     "metadata": {},
     "output_type": "display_data"
    },
    {
     "data": {
      "text/plain": [
       "array([[  1.00000000e+00,   2.36524735e+00,   1.96497801e-01,\n",
       "          1.31318044e-01],\n",
       "       [  1.00000000e+00,   6.89064497e-01,   8.33046751e-02,\n",
       "          2.53352937e-04],\n",
       "       [  1.00000000e+00,   5.15412059e+00,   8.06167257e-03,\n",
       "          3.15516462e-03],\n",
       "       [  1.00000000e+00,   1.37604117e-01,   8.24606548e-10,\n",
       "          3.04072131e+00],\n",
       "       [  1.00000000e+00,   5.42197561e-02,   1.81999702e+00,\n",
       "          3.58662350e-03],\n",
       "       [  1.00000000e+00,   3.74800637e-02,   1.17421408e+00,\n",
       "          2.10304939e-01],\n",
       "       [  1.00000000e+00,   4.17847964e-02,   2.16242261e+00,\n",
       "          2.06400642e-87],\n",
       "       [  1.00000000e+00,   4.95270180e-02,   1.14191129e-02,\n",
       "          5.73159174e-01]])"
      ]
     },
     "metadata": {},
     "output_type": "display_data"
    },
    {
     "data": {
      "text/plain": [
       "array([[ 1.04611476],\n",
       "       [ 2.40626319],\n",
       "       [ 1.38084115],\n",
       "       [ 0.53124405],\n",
       "       [ 2.48307518],\n",
       "       [ 0.96249306],\n",
       "       [ 0.43966546],\n",
       "       [ 0.46251295]])"
      ]
     },
     "metadata": {},
     "output_type": "display_data"
    },
    {
     "data": {
      "text/plain": [
       "array([[  4.02524932,   1.90872435,  18.74971711,   0.07201729,\n",
       "          0.20445226,   0.39642883,   0.04423977,   0.09853798],\n",
       "       [  0.09245731,   0.14190237,   0.11034673,   1.31015388,\n",
       "          0.43604614,   0.07897169,   0.6026059 ,   0.03365217],\n",
       "       [  0.55501154,   0.96710273,   0.21870884,   0.4053281 ,\n",
       "          2.54130873,   1.1404256 ,   1.67502128,   0.09552682],\n",
       "       [  0.17238123,   0.54329951,   0.27890248,   0.05535998,\n",
       "          0.84649692,   0.22781975,   0.05166009,   0.19630508]])"
      ]
     },
     "metadata": {},
     "output_type": "display_data"
    },
    {
     "data": {
      "text/plain": [
       "array([[ 1.78873325],\n",
       "       [ 1.73289437],\n",
       "       [ 1.1541512 ],\n",
       "       [ 2.96362149]])"
      ]
     },
     "metadata": {},
     "output_type": "display_data"
    },
    {
     "name": "stderr",
     "output_type": "stream",
     "text": [
      "/Users/Kota/Library/Python/2.7/lib/python/site-packages/ipykernel/__main__.py:82: RuntimeWarning: divide by zero encountered in log\n"
     ]
    },
    {
     "data": {
      "text/plain": [
       "[<matplotlib.lines.Line2D at 0x109459750>]"
      ]
     },
     "execution_count": 37,
     "metadata": {},
     "output_type": "execute_result"
    },
    {
     "data": {
      "image/png": "[encoded data removed]",
      "text/plain": [
       "<matplotlib.figure.Figure at 0x1076c5850>"
      ]
     },
     "metadata": {},
     "output_type": "display_data"
    }
   ],
   "source": [
    "#プロトタイプ 2層\n",
    "%matplotlib inline\n",
    "from IPython.display import display\n",
    "from matplotlib.pylab import *\n",
    "from scipy.special import *\n",
    "\n",
    "I=map(lambda v:transpose(array([v],dtype='float64')),[[0,0,0,0],[0,0,0,1],[0,0,1,0],[0,0,1,1],[0,1,0,0]])\n",
    "O=map(lambda v:transpose(array([v],dtype='float64')),[[0,0,0,0],[0,0,0,1],[0,0,1,0],[0,1,0,0],[1,0,0,0]])\n",
    "\n",
    "if True:\n",
    "    HAu = normal(size=(8,4))\n",
    "    HAs = ones(shape(HAu))\n",
    "\n",
    "    HBu = zeros((8,1))\n",
    "    HBs = ones(shape(HBu))\n",
    "\n",
    "    OAu = normal(size=(4,8))\n",
    "    OAs = ones(shape(OAu))\n",
    "\n",
    "    OBu = zeros((4,1))\n",
    "    OBs = ones(shape(OBu))\n",
    "\n",
    "eps = 0.3\n",
    "err = []\n",
    "epoch = 5 * ( 2 ** 13 )\n",
    "\n",
    "def delta(J, D, P):\n",
    "    E = - J * ((D)/(P)-(1-D)/(1-P))\n",
    "    NG = logical_or(isnan(E), isinf(E))\n",
    "    E[NG] = 0\n",
    "    return E\n",
    "\n",
    "for k in range(epoch):\n",
    "    X = I[ k % 5 ]\n",
    "    Y = O[ k % 5 ]\n",
    "    \n",
    "    HX = X\n",
    "    HA = normal(size=shape(HAu))*HAs+HAu\n",
    "    HB = normal(size=shape(HBu))*HBs+HBu\n",
    "    \n",
    "    HVu = dot(HAu,    HX   ) + HBu\n",
    "    HVv = dot(HAs**2, HX**2) + HBs**2\n",
    "    HVs = sqrt(HVv)\n",
    "    \n",
    "    HF  = 0 < dot(HA, HX) + HB\n",
    "    HP = 0.5 + 0.5 * erf(HVu/HVs/sqrt(2))\n",
    "    \n",
    "    OX = HF\n",
    "    OA = normal(size=shape(OAu))*OAs+OAu\n",
    "    OB = normal(size=shape(OBu))*OBs+OBu\n",
    "    \n",
    "    OVu = dot(OAu,    OX   ) + OBu\n",
    "    OVv = dot(OAs**2, OX**2) + OBs**2\n",
    "    OVs = sqrt(OVv)\n",
    "    \n",
    "    OF  = 0 < dot(OA, OX) + OB\n",
    "    OP = 0.5 + 0.5 * erf(OVu/OVs/sqrt(2))\n",
    "    \n",
    "    OY = Y    \n",
    "    E = OY - OP\n",
    "    \n",
    "    OJ = -exp(-(-OVu)**2/OVv/2.0)/sqrt(pi)/OVs/sqrt(2)\n",
    "    OD = delta(OJ, OY, OP)\n",
    "    HY = 0.5 + 0.5 * sign(dot(OA.T, OY))\n",
    "    OAu = OAu + eps * (OD).dot(OX.T)\n",
    "    OBu = OBu + eps * (OD)\n",
    "    OAs = abs(OAs - eps * (OAs) * ((OD*OVu/OVv).dot(OX.T**2)))\n",
    "    OBs = abs(OBs - eps * (OBs) * ((OD*OVu/OVv)))\n",
    "    \n",
    "    HJ = -exp(-(-HVu)**2/HVv/2.0)/sqrt(pi)/HVs/sqrt(2)\n",
    "    HD = delta(HJ, HY, HP)\n",
    "    HAu = HAu + eps * (HD).dot(HX.T)\n",
    "    HBu = HBu + eps * (HD)\n",
    "    HAs = abs(HAs - eps * (HAs) * ((HD*HVu/HVv).dot(HX.T**2)))\n",
    "    HBs = abs(HBs - eps * (HBs) * ((HD*HVu/HVv)))\n",
    "    \n",
    "    err.append(dot(E.T, E)[0])\n",
    "    if k > epoch - 6:\n",
    "        display(k, Y.T, OP.T)\n",
    "    \n",
    "display(HAs,HBs,OAs,OBs)\n",
    "plot(log(err))"
   ]
  },
  {
   "cell_type": "code",
   "execution_count": null,
   "metadata": {
    "collapsed": true
   },
   "outputs": [],
   "source": []
  }
 ],
 "metadata": {
  "kernelspec": {
   "display_name": "Python 2",
   "language": "python",
   "name": "python2"
  },
  "language_info": {
   "codemirror_mode": {
    "name": "ipython",
    "version": 2
   },
   "file_extension": ".py",
   "mimetype": "text/x-python",
   "name": "python",
   "nbconvert_exporter": "python",
   "pygments_lexer": "ipython2",
   "version": "2.7.10"
  }
 },
 "nbformat": 4,
 "nbformat_minor": 0
}
