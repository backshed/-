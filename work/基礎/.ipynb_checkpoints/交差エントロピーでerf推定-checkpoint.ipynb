{
 "cells": [
  {
   "cell_type": "code",
   "execution_count": 61,
   "metadata": {
    "collapsed": false
   },
   "outputs": [
    {
     "data": {
      "image/png": "[encoded data removed]",
      "text/latex": [
       "$$\\frac{1}{\\sigma} \\left(1.0 \\mu - 1.0 x\\right)$$"
      ],
      "text/plain": [
       "1.0⋅(μ - x)\n",
       "───────────\n",
       "     σ     "
      ]
     },
     "metadata": {},
     "output_type": "display_data"
    }
   ],
   "source": [
    "%matplotlib inline\n",
    "from sympy import * \n",
    "from IPython.display import display\n",
    "init_printing()\n",
    "\n",
    "d, x, u, s = symbols('d, x, mu, sigma')\n",
    "p = exp(-(x-u)**2/(2*s*s))/sqrt(2*pi)/s\n",
    "f = 0.5 * ( 1 + erf( ( x - u ) / sqrt( 2 ) / s ))\n",
    "display(simplify(diff(f, s)/p))"
   ]
  },
  {
   "cell_type": "code",
   "execution_count": 72,
   "metadata": {
    "collapsed": false
   },
   "outputs": [
    {
     "data": {
      "image/png": "[encoded data removed]",
      "text/latex": [
       "$$-1.5$$"
      ],
      "text/plain": [
       "-1.5"
      ]
     },
     "metadata": {},
     "output_type": "display_data"
    },
    {
     "data": {
      "image/png": "[encoded data removed]",
      "text/latex": [
       "$$-1.49999623538822$$"
      ],
      "text/plain": [
       "-1.49999623538822"
      ]
     },
     "metadata": {},
     "output_type": "display_data"
    },
    {
     "data": {
      "image/png": "[encoded data removed]",
      "text/latex": [
       "$$1.2$$"
      ],
      "text/plain": [
       "1.2"
      ]
     },
     "metadata": {},
     "output_type": "display_data"
    },
    {
     "data": {
      "image/png": "[encoded data removed]",
      "text/latex": [
       "$$1.20006292431948$$"
      ],
      "text/plain": [
       "1.20006292431948"
      ]
     },
     "metadata": {},
     "output_type": "display_data"
    }
   ],
   "source": [
    "#RMS最小化\n",
    "%matplotlib inline\n",
    "from matplotlib.pylab import *\n",
    "from math import exp\n",
    "from IPython.display import display\n",
    "mu = -1.5\n",
    "ms = 1.2\n",
    "eu = 1.1\n",
    "es = 1.0\n",
    "eps = 0.5\n",
    "for k in range(1024):\n",
    "    x = normal(mu, ms)\n",
    "    \n",
    "    mf = 0.5*(1+erf((x-mu)/sqrt(2)/ms))\n",
    "    mp = exp(-(x-mu)**2/(2*ms*ms))/sqrt(2*pi)/ms\n",
    "    \n",
    "    ef = 0.5*(1+erf((x-eu)/sqrt(2)/es))\n",
    "    ep = exp(-(x-eu)**2/(2*es*es))/sqrt(2*pi)/es\n",
    "    \n",
    "    er = mf - ef\n",
    "    \n",
    "    ds = ep * ( eu - x ) / ms\n",
    "    es = es + er * eps * ds\n",
    "    \n",
    "    du = - ep\n",
    "    eu = eu + er * eps * du\n",
    "\n",
    "display(mu, eu)\n",
    "display(ms, es)"
   ]
  },
  {
   "cell_type": "code",
   "execution_count": null,
   "metadata": {
    "collapsed": true
   },
   "outputs": [],
   "source": [
    "#交差エントロピー最小化\n",
    "%matplotlib inline\n",
    "from matplotlib.pylab import *\n",
    "from math import exp\n",
    "from IPython.display import display\n",
    "mu = -1.5\n",
    "ms = 1.2\n",
    "eu = 1.1\n",
    "es = 1.0\n",
    "eps = 0.5\n",
    "for k in range(1024):\n",
    "    x = normal(mu, ms)\n",
    "    \n",
    "    mf = 0.5*(1+erf((x-mu)/sqrt(2)/ms))\n",
    "    mp = exp(-(x-mu)**2/(2*ms*ms))/sqrt(2*pi)/ms\n",
    "    \n",
    "    ef = 0.5*(1+erf((x-eu)/sqrt(2)/es))\n",
    "    ep = exp(-(x-eu)**2/(2*es*es))/sqrt(2*pi)/es\n",
    "    \n",
    "    er = mf - ef\n",
    "    \n",
    "    ds = ep * ( eu - x ) / ms\n",
    "    es = es + er * eps * ds\n",
    "    \n",
    "    du = - ep\n",
    "    eu = eu + er * eps * du\n",
    "\n",
    "display(mu, eu)\n",
    "display(ms, es)"
   ]
  }
 ],
 "metadata": {
  "kernelspec": {
   "display_name": "Python 2",
   "language": "python",
   "name": "python2"
  },
  "language_info": {
   "codemirror_mode": {
    "name": "ipython",
    "version": 2
   },
   "file_extension": ".py",
   "mimetype": "text/x-python",
   "name": "python",
   "nbconvert_exporter": "python",
   "pygments_lexer": "ipython2",
   "version": "2.7.10"
  }
 },
 "nbformat": 4,
 "nbformat_minor": 0
}
