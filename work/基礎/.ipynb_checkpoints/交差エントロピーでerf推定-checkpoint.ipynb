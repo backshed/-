{
 "cells": [
  {
   "cell_type": "code",
   "execution_count": 161,
   "metadata": {
    "collapsed": false,
    "scrolled": false
   },
   "outputs": [
    {
     "data": {
      "image/png": "[encoded data removed]",
      "text/latex": [
       "$$- \\frac{2 x e^{- \\frac{x^{2}}{v^{2}}}}{\\sqrt{\\pi} v^{2}}$$"
      ],
      "text/plain": [
       "        2  \n",
       "      -x   \n",
       "      ──── \n",
       "        2  \n",
       "       v   \n",
       "-2⋅x⋅ℯ     \n",
       "───────────\n",
       "       2   \n",
       "   √π⋅v    "
      ]
     },
     "metadata": {},
     "output_type": "display_data"
    }
   ],
   "source": [
    "%matplotlib inline\n",
    "from sympy import * \n",
    "from IPython.display import display\n",
    "init_printing()\n",
    "\n",
    "t, x, u, s, v = symbols('t, x, mu, sigma, v')\n",
    "p = exp(-(x-u)**2/(2*s*s))/sqrt(2*pi)/s\n",
    "P = exp(-(x-u)**2/(2*s*s))\n",
    "f = 0.5 + 0.5 * erf( ( x - u ) / sqrt( 2 ) / s )\n",
    "e0 = t - f\n",
    "e1 = (  t)*log(  f)\n",
    "e2 = (1-t)*log(1-f)\n",
    "J = [diff(e0, u), diff(e0, s)]\n",
    "H = [[diff(J[0], u), diff(J[0], s)], [diff(J[1], u), diff(J[1], s)]]\n",
    "D = H[0][0] * H[1][1] - H[1][0] * H[1][0]\n",
    "\n",
    "#display(diff(f, x))\n",
    "#display(simplify(diff(e1, s)/p*(f)))\n",
    "display(simplify((diff(erf(x/v), v))))"
   ]
  },
  {
   "cell_type": "code",
   "execution_count": 30,
   "metadata": {
    "collapsed": false
   },
   "outputs": [
    {
     "data": {
      "text/plain": [
       "-0.5"
      ]
     },
     "metadata": {},
     "output_type": "display_data"
    },
    {
     "data": {
      "text/plain": [
       "10.1"
      ]
     },
     "metadata": {},
     "output_type": "display_data"
    },
    {
     "data": {
      "text/plain": [
       "8.7128084283721066"
      ]
     },
     "metadata": {},
     "output_type": "display_data"
    },
    {
     "data": {
      "text/plain": [
       "40.4"
      ]
     },
     "metadata": {},
     "output_type": "display_data"
    },
    {
     "data": {
      "text/plain": [
       "40.184183397265194"
      ]
     },
     "metadata": {},
     "output_type": "display_data"
    },
    {
     "data": {
      "text/plain": [
       "(-60, 0)"
      ]
     },
     "execution_count": 30,
     "metadata": {},
     "output_type": "execute_result"
    },
    {
     "data": {
      "image/png": "[encoded data removed]",
      "text/plain": [
       "<matplotlib.figure.Figure at 0x10ad4f810>"
      ]
     },
     "metadata": {},
     "output_type": "display_data"
    },
    {
     "data": {
      "image/png": "[encoded data removed]",
      "text/plain": [
       "<matplotlib.figure.Figure at 0x10a91ac50>"
      ]
     },
     "metadata": {},
     "output_type": "display_data"
    },
    {
     "data": {
      "image/png": "[encoded data removed]",
      "text/plain": [
       "<matplotlib.figure.Figure at 0x10ad68950>"
      ]
     },
     "metadata": {},
     "output_type": "display_data"
    }
   ],
   "source": [
    "#交差エントロピー最小化　２値\n",
    "%matplotlib inline\n",
    "from matplotlib.pylab import *\n",
    "from IPython.display import display\n",
    "\n",
    "mu = 10.1\n",
    "ms = 40.4\n",
    "eu = 1.0\n",
    "es = 1.8\n",
    "eps = 0.6\n",
    "\n",
    "c = 0\n",
    "e = []\n",
    "s = []\n",
    "u = []\n",
    "\n",
    "def F(x, u, s):\n",
    "    from math import erf\n",
    "    return 0.5 + 0.5 * erf((x-u)/s/sqrt(2))\n",
    "    \n",
    "def P(x, u, s):\n",
    "    from math import exp\n",
    "    return sqrt(2)*exp(-((x-u)/s)**2)/sqrt(pi)/s\n",
    "\n",
    "def L(d, x, u, s):\n",
    "    from math import log\n",
    "    return (d)*log(F(x,u,s))+(1-d)*log(1-F(x,u,s))\n",
    "\n",
    "def dJ(d, x, u, s, eps):\n",
    "    return array([\n",
    "        -0.5*(L(d, x, u+eps, s)-L(d, x, u-eps, s))/eps,\n",
    "        -0.5*(L(d, x, u, s+eps)-L(d, x, u, s-eps))/eps\n",
    "    ],dtype='float64')\n",
    "\n",
    "def J(d, x, u, s):\n",
    "    p = P(x, u, s)\n",
    "    f = F(x, u, s)\n",
    "    df = (d)*(p)/(f)-(1-d)*(p)/(1-f)\n",
    "    return array([\n",
    "        df,\n",
    "        df*(x-u)/s,\n",
    "    ], dtype='float64')\n",
    "\n",
    "def dH(d, x, u, s, eps):\n",
    "    return -array([\n",
    "        0.5*(J(d, x, u+eps, s)-J(d, x, u-eps, s))/eps,\n",
    "        0.5*(J(d, x, u, s+eps)-J(d, x, u, s-eps))/eps\n",
    "    ], dtype='float64')\n",
    "\n",
    "def ddH(d, x, u, s, eps):\n",
    "    return array([\n",
    "        0.5*(dJ(d, x, u+eps, s, eps)-dJ(d, x, u-eps, s, eps))/eps,\n",
    "        0.5*(dJ(d, x, u, s+eps, eps)-dJ(d, x, u, s-eps, eps))/eps\n",
    "    ])\n",
    "\n",
    "var = 0\n",
    "for k in range(2**15):\n",
    "    x = normal()*es+eu\n",
    "    d = normal()*ms+mu\n",
    "    \n",
    "    er = F(x, mu, ms) - F(x, eu, es)\n",
    "    e.append(er)\n",
    "    u.append(eu)\n",
    "    s.append(es)\n",
    "    \n",
    "    j = J(d<x, x, eu, es)\n",
    "    eu = eu - eps * j[0]\n",
    "    es = abs(es - eps * j[1])\n",
    "#    j = P(x,eu,es) * ((d<x)-F(x,eu,es))*(x-eu)/es\n",
    "#    es = abs(es - eps * j)\n",
    "\n",
    "display(sqrt(var/float(2**14))-0.5)\n",
    "display(mu, eu)\n",
    "display(ms, es)\n",
    "figure();plot(u)\n",
    "figure();plot(s)\n",
    "figure();plot(log(array(e, dtype='float64')**2))\n",
    "ylim(-60,0)\n"
   ]
  },
  {
   "cell_type": "code",
   "execution_count": 15,
   "metadata": {
    "collapsed": false
   },
   "outputs": [
    {
     "name": "stderr",
     "output_type": "stream",
     "text": [
      "/Users/Kota/Library/Python/2.7/lib/python/site-packages/ipykernel/__main__.py:38: RuntimeWarning: divide by zero encountered in double_scalars\n"
     ]
    },
    {
     "data": {
      "text/plain": [
       "0"
      ]
     },
     "metadata": {},
     "output_type": "display_data"
    },
    {
     "data": {
      "text/plain": [
       "1.5"
      ]
     },
     "metadata": {},
     "output_type": "display_data"
    },
    {
     "data": {
      "text/plain": [
       "nan"
      ]
     },
     "metadata": {},
     "output_type": "display_data"
    },
    {
     "data": {
      "text/plain": [
       "1.8"
      ]
     },
     "metadata": {},
     "output_type": "display_data"
    },
    {
     "data": {
      "text/plain": [
       "nan"
      ]
     },
     "metadata": {},
     "output_type": "display_data"
    },
    {
     "data": {
      "text/plain": [
       "(-60, 0)"
      ]
     },
     "execution_count": 15,
     "metadata": {},
     "output_type": "execute_result"
    },
    {
     "data": {
      "image/png": "[encoded data removed]",
      "text/plain": [
       "<matplotlib.figure.Figure at 0x10663ef50>"
      ]
     },
     "metadata": {},
     "output_type": "display_data"
    },
    {
     "data": {
      "image/png": "[encoded data removed]",
      "text/plain": [
       "<matplotlib.figure.Figure at 0x106894d50>"
      ]
     },
     "metadata": {},
     "output_type": "display_data"
    },
    {
     "data": {
      "image/png": "[encoded data removed]",
      "text/plain": [
       "<matplotlib.figure.Figure at 0x106e3fd50>"
      ]
     },
     "metadata": {},
     "output_type": "display_data"
    }
   ],
   "source": [
    "#交差エントロピー最小化 数値差分\n",
    "%matplotlib inline\n",
    "from matplotlib.pylab import *\n",
    "from IPython.display import display\n",
    "\n",
    "mu = 1.5\n",
    "ms = 1.8\n",
    "eu = 1.0\n",
    "es = 1.5\n",
    "eps = 0.1\n",
    "\n",
    "c = 0\n",
    "e = []\n",
    "u = []\n",
    "s = []\n",
    "\n",
    "def F(x, u, s):\n",
    "    from math import erf\n",
    "    return 0.5 + 0.5 * erf((x-u)/sqrt(2)/s)\n",
    "    \n",
    "def P(x, u, s):\n",
    "    from math import exp\n",
    "    return exp(-((x-u)/s)**2)/sqrt(2*pi)/s    \n",
    "\n",
    "def L(d, x, u, s):\n",
    "    from math import log\n",
    "    return (d)*log(F(x,u,s))+(1-d)*log(1-F(x,u,s))\n",
    "\n",
    "def dJ(d, x, u, s, eps):\n",
    "    return array([\n",
    "        -0.5*(L(d, x, u+eps, s)-L(d, x, u-eps, s))/eps,\n",
    "        -0.5*(L(d, x, u, s+eps)-L(d, x, u, s-eps))/eps\n",
    "    ],dtype='float64')\n",
    "\n",
    "def J(d, x, u, s):\n",
    "    p = P(x, u, s)\n",
    "    f = F(x, u, s)\n",
    "    df = (d)*(p)/(f)-(1-d)*(p)/(1-f)\n",
    "    return array([\n",
    "        df,\n",
    "        df*(x-u)/s,\n",
    "    ], dtype='float64')\n",
    "\n",
    "def dH(d, x, u, s, eps):\n",
    "    return -array([\n",
    "        0.5*(J(d, x, u+eps, s)-J(d, x, u-eps, s))/eps,\n",
    "        0.5*(J(d, x, u, s+eps)-J(d, x, u, s-eps))/eps\n",
    "    ], dtype='float64')\n",
    "\n",
    "def ddH(d, x, u, s, eps):\n",
    "    return array([\n",
    "        0.5*(dJ(d, x, u+eps, s, eps)-dJ(d, x, u-eps, s, eps))/eps,\n",
    "        0.5*(dJ(d, x, u, s+eps, eps)-dJ(d, x, u, s-eps, eps))/eps\n",
    "    ])\n",
    "\n",
    "for k in range(2**12):\n",
    "    x = normal()*es+eu\n",
    "    \n",
    "    mf = F(x, mu, ms)\n",
    "    mp = P(x, mu, ms)\n",
    "    \n",
    "    ef = F(x, eu, es)\n",
    "    ep = P(x, eu, es)\n",
    "    \n",
    "    er = mf - ef\n",
    "    e.append(er)\n",
    "    u.append(eu)\n",
    "    s.append(es)\n",
    "    \n",
    "    j = J(mf, x, eu, es)\n",
    "    h = dH(mf, x, eu, es, 0.01)\n",
    "#    display(k, eu, es, j, h, inv(h))\n",
    "    \n",
    "    j = j.dot(inv(h))\n",
    "#    display(j)\n",
    "#    try:\n",
    "#        val, vec = eig(h)\n",
    "#        j = inv(vec.dot(diag(abs(val))).dot(inv(vec))).dot(j)\n",
    "#        \n",
    "#    except:\n",
    "#        c = c + 1\n",
    "    \n",
    "    eu =    (eu - eps * j[0])\n",
    "    es = abs(es - eps * j[1])\n",
    "\n",
    "display(c)\n",
    "display(mu, eu)\n",
    "display(ms, es)\n",
    "figure();plot(u)\n",
    "figure();plot(s)\n",
    "figure();plot(log(array(e, dtype='float64')**2))\n",
    "ylim(-60,0)\n",
    "\n"
   ]
  },
  {
   "cell_type": "code",
   "execution_count": 171,
   "metadata": {
    "collapsed": false
   },
   "outputs": [
    {
     "data": {
      "image/png": "[encoded data removed]",
      "text/latex": [
       "$$-1.5$$"
      ],
      "text/plain": [
       "-1.5"
      ]
     },
     "metadata": {},
     "output_type": "display_data"
    },
    {
     "data": {
      "image/png": "[encoded data removed]",
      "text/latex": [
       "$$-1.5$$"
      ],
      "text/plain": [
       "-1.5"
      ]
     },
     "metadata": {},
     "output_type": "display_data"
    },
    {
     "data": {
      "image/png": "[encoded data removed]",
      "text/latex": [
       "$$1.5$$"
      ],
      "text/plain": [
       "1.5"
      ]
     },
     "metadata": {},
     "output_type": "display_data"
    },
    {
     "data": {
      "image/png": "[encoded data removed]",
      "text/latex": [
       "$$1.5$$"
      ],
      "text/plain": [
       "1.5"
      ]
     },
     "metadata": {},
     "output_type": "display_data"
    },
    {
     "name": "stderr",
     "output_type": "stream",
     "text": [
      "/Users/Kota/Library/Python/2.7/lib/python/site-packages/ipykernel/__main__.py:41: RuntimeWarning: divide by zero encountered in log\n"
     ]
    },
    {
     "data": {
      "image/png": "[encoded data removed]",
      "text/latex": [
       "$$\\left ( -60, \\quad 0\\right )$$"
      ],
      "text/plain": [
       "(-60, 0)"
      ]
     },
     "execution_count": 171,
     "metadata": {},
     "output_type": "execute_result"
    },
    {
     "data": {
      "image/png": "[encoded data removed]",
      "text/plain": [
       "<matplotlib.figure.Figure at 0x10b037350>"
      ]
     },
     "metadata": {},
     "output_type": "display_data"
    }
   ],
   "source": [
    "#交差エントロピー最小化\n",
    "%matplotlib inline\n",
    "from matplotlib.pylab import *\n",
    "from math import exp\n",
    "from scipy.special import erf\n",
    "from IPython.display import display\n",
    "mu = -1.5\n",
    "ms = 1.5\n",
    "eu = 3.3\n",
    "es = 1.5\n",
    "eps = 0.5\n",
    "e = []\n",
    "for k in range(2048):\n",
    "    x = normal()*es+eu\n",
    "    \n",
    "    mf = 0.5+0.5*erf((x-mu)/sqrt(2)/ms)\n",
    "    mp = exp(-(x-mu)**2/(2*ms*ms))/sqrt(2*pi)/ms\n",
    "    \n",
    "    ef = 0.5+0.5*erf((x-eu)/sqrt(2)/es)\n",
    "    ep = exp(-(x-eu)**2/(2*es*es))/sqrt(2*pi)/es\n",
    "    \n",
    "    er = mf - ef\n",
    "    e.append(er)\n",
    "    \n",
    "    u = eu\n",
    "    s = es\n",
    "    f = ef\n",
    "    p = ep\n",
    "    t = mf\n",
    "    \n",
    "    df = (t) * p / f + (t-1) * p / (1-f)\n",
    "    \n",
    "    ds = -df * (x-u)/s\n",
    "    es = es + eps * ds\n",
    "    \n",
    "    du = -df\n",
    "    eu = eu + eps * du\n",
    "\n",
    "display(mu, eu)\n",
    "display(ms, es)\n",
    "plot(log(array(e, dtype='float32')**2))\n",
    "ylim(-60,0)"
   ]
  },
  {
   "cell_type": "code",
   "execution_count": 32,
   "metadata": {
    "collapsed": false
   },
   "outputs": [
    {
     "data": {
      "text/plain": [
       "0"
      ]
     },
     "metadata": {},
     "output_type": "display_data"
    },
    {
     "data": {
      "text/plain": [
       "-1.5"
      ]
     },
     "metadata": {},
     "output_type": "display_data"
    },
    {
     "data": {
      "text/plain": [
       "array([-1.5])"
      ]
     },
     "metadata": {},
     "output_type": "display_data"
    },
    {
     "data": {
      "text/plain": [
       "1.5"
      ]
     },
     "metadata": {},
     "output_type": "display_data"
    },
    {
     "data": {
      "text/plain": [
       "array([ 1.5])"
      ]
     },
     "metadata": {},
     "output_type": "display_data"
    },
    {
     "name": "stderr",
     "output_type": "stream",
     "text": [
      "/Users/Kota/Library/Python/2.7/lib/python/site-packages/ipykernel/__main__.py:52: RuntimeWarning: divide by zero encountered in log\n"
     ]
    },
    {
     "data": {
      "text/plain": [
       "(-60, 0)"
      ]
     },
     "execution_count": 32,
     "metadata": {},
     "output_type": "execute_result"
    },
    {
     "data": {
      "image/png": "[encoded data removed]",
      "text/plain": [
       "<matplotlib.figure.Figure at 0x105a36490>"
      ]
     },
     "metadata": {},
     "output_type": "display_data"
    }
   ],
   "source": [
    "#交差エントロピー - ニュートン法最小化\n",
    "%matplotlib inline\n",
    "from matplotlib.pylab import *\n",
    "from math import exp, sqrt\n",
    "from scipy.special import erf\n",
    "from IPython.display import display\n",
    "mu = -1.5\n",
    "ms = 1.5\n",
    "eu = 20.0\n",
    "es = 10.5\n",
    "eps = 0.3\n",
    "c = 0\n",
    "e = []\n",
    "for k in range(2**12):\n",
    "    x = normal()*es+eu\n",
    "    \n",
    "    mf = 0.5+0.5*erf((x-mu)/sqrt(2)/ms)\n",
    "    mp = exp(-(x-mu)**2/(2*ms*ms))/sqrt(2*pi)/ms\n",
    "    \n",
    "    ef = 0.5+0.5*erf((x-eu)/sqrt(2)/es)\n",
    "    ep = exp(-(x-eu)**2/(2*es*es))/sqrt(2*pi)/es\n",
    "    \n",
    "    er = mf - ef\n",
    "    e.append(er)\n",
    "    \n",
    "    u = eu\n",
    "    s = es\n",
    "    f = ef\n",
    "    p = ep\n",
    "    t = mf\n",
    "    \n",
    "    J = zeros((2,1), dtype='float64')\n",
    "              \n",
    "    J[0] = p*((  t)/(  f)-(1-t)/(1-f))\n",
    "    J[1] = p*((  t)/(  f)-(1-t)/(1-f))*(x-u)/s\n",
    "    \n",
    "    H = zeros((2,2), dtype='float64')\n",
    "    H[0,0] = (  t)/(  f)*(p*(u-x)/s/s - J[0]*J[0]/(  f))\\\n",
    "           - (1-t)/(1-f)*(p*(u-x)/s/s - J[0]*J[0]/(1-f))\n",
    "        \n",
    "    H[0,1] = (  t)/(  f)*(p*(1-((u-x)/s)**2)/s - J[0]*J[1]/(  f))\\\n",
    "           - (1-t)/(1-f)*(p*(1-((u-x)/s)**2)/s - J[0]*J[1]/(1-f))\n",
    "    \n",
    "    H[1,0] = (  t)/(  f)*(p*(1-((u-x)/s)**2)/s - J[1]*J[0]/(  f))\\\n",
    "           - (1-t)/(1-f)*(p*(1-((u-x)/s)**2)/s - J[1]*J[0]/(1-f))\n",
    "    \n",
    "    H[1,1] = (  t)/(  f)*(p*(u-x)*(((u-x)/s)**2-1)/s/s - J[1]*J[1]/(  f))\\\n",
    "           - (1-t)/(1-f)*(p*(u-x)*(((u-x)/s)**2-1)/s/s - J[1]*J[1]/(1-f))\n",
    "    \n",
    "    eu = eu - eps * J[0]\n",
    "    es = es - eps * J[1]\n",
    "\n",
    "display(c)\n",
    "display(mu, eu)\n",
    "display(ms, es)\n",
    "plot(log(array(e, dtype='float64')**2))\n",
    "ylim(-60,0)"
   ]
  },
  {
   "cell_type": "code",
   "execution_count": 20,
   "metadata": {
    "collapsed": false
   },
   "outputs": [
    {
     "data": {
      "text/plain": [
       "-1.5"
      ]
     },
     "metadata": {},
     "output_type": "display_data"
    },
    {
     "data": {
      "text/plain": [
       "-1.4999999999999993"
      ]
     },
     "metadata": {},
     "output_type": "display_data"
    },
    {
     "data": {
      "text/plain": [
       "1.5"
      ]
     },
     "metadata": {},
     "output_type": "display_data"
    },
    {
     "data": {
      "text/plain": [
       "1.5000000000000111"
      ]
     },
     "metadata": {},
     "output_type": "display_data"
    },
    {
     "name": "stderr",
     "output_type": "stream",
     "text": [
      "/Users/Kota/Library/Python/2.7/lib/python/site-packages/ipykernel/__main__.py:42: RuntimeWarning: divide by zero encountered in log\n"
     ]
    },
    {
     "data": {
      "text/plain": [
       "(-60, 0)"
      ]
     },
     "execution_count": 20,
     "metadata": {},
     "output_type": "execute_result"
    },
    {
     "data": {
      "image/png": "[encoded data removed]",
      "text/plain": [
       "<matplotlib.figure.Figure at 0x106e01550>"
      ]
     },
     "metadata": {},
     "output_type": "display_data"
    }
   ],
   "source": [
    "#RMS最小化\n",
    "%matplotlib inline\n",
    "from matplotlib.pylab import *\n",
    "from math import exp\n",
    "from scipy.special import erf\n",
    "from IPython.display import display\n",
    "mu = -1.5\n",
    "ms = 1.5\n",
    "eu = 20.0\n",
    "es = 10.5\n",
    "eps = 0.5\n",
    "e = []\n",
    "\n",
    "def F(x, u, s):\n",
    "    from math import erf\n",
    "    return 0.5 + 0.5 * erf((x-u)/sqrt(2)/s)\n",
    "    \n",
    "def P(x, u, s):\n",
    "    from math import exp\n",
    "    return exp(-((x-u)/s)**2)/sqrt(2*pi)/s    \n",
    "\n",
    "for k in range(16384):\n",
    "    x = normal()*es+eu\n",
    "    \n",
    "    mf = F(x, mu, ms)\n",
    "    mp = P(x, mu, ms)\n",
    "    \n",
    "    ef = F(x, eu, es)\n",
    "    ep = P(x, eu, es)\n",
    "    \n",
    "    er = mf - ef\n",
    "    e.append(er)\n",
    "    \n",
    "    ds = ep * ( eu - x ) / ms\n",
    "    es = es + er * eps * ds\n",
    "    \n",
    "    du = -ep\n",
    "    eu = eu + er * eps * du\n",
    "\n",
    "display(mu, eu)\n",
    "display(ms, es)\n",
    "plot(log(array(e, dtype='float32')**2))\n",
    "ylim(-60,0) "
   ]
  },
  {
   "cell_type": "code",
   "execution_count": 687,
   "metadata": {
    "collapsed": false
   },
   "outputs": [
    {
     "data": {
      "image/png": "[encoded data removed]",
      "text/latex": [
       "$$-1.5$$"
      ],
      "text/plain": [
       "-1.5"
      ]
     },
     "metadata": {},
     "output_type": "display_data"
    },
    {
     "data": {
      "image/png": "[encoded data removed]",
      "text/latex": [
       "$$8.2253826096$$"
      ],
      "text/plain": [
       "8.2253826096"
      ]
     },
     "metadata": {},
     "output_type": "display_data"
    },
    {
     "data": {
      "image/png": "[encoded data removed]",
      "text/latex": [
       "$$1.5$$"
      ],
      "text/plain": [
       "1.5"
      ]
     },
     "metadata": {},
     "output_type": "display_data"
    },
    {
     "data": {
      "image/png": "[encoded data removed]",
      "text/latex": [
       "$$15.7779763652$$"
      ],
      "text/plain": [
       "15.7779763652"
      ]
     },
     "metadata": {},
     "output_type": "display_data"
    },
    {
     "data": {
      "image/png": "[encoded data removed]",
      "text/latex": [
       "$$\\left ( -60, \\quad 0\\right )$$"
      ],
      "text/plain": [
       "(-60, 0)"
      ]
     },
     "execution_count": 687,
     "metadata": {},
     "output_type": "execute_result"
    },
    {
     "data": {
      "image/png": "[encoded data removed]",
      "text/plain": [
       "<matplotlib.figure.Figure at 0x111915790>"
      ]
     },
     "metadata": {},
     "output_type": "display_data"
    }
   ],
   "source": [
    "#RMS最小化\n",
    "%matplotlib inline\n",
    "from matplotlib.pylab import *\n",
    "from math import exp\n",
    "from scipy.special import erf\n",
    "from IPython.display import display\n",
    "mu = -1.5\n",
    "ms = 1.5\n",
    "\n",
    "eu = 20.0\n",
    "es = 10.5\n",
    "eps = 0.5\n",
    "e = []\n",
    "for k in range(4096):\n",
    "    x = normal()*es+eu\n",
    "    \n",
    "    mf = 0.5*(1+erf((x-mu)/sqrt(2)/ms))\n",
    "    mp = exp(-(x-mu)**2/(2*ms*ms))/sqrt(2*pi)/ms\n",
    "    \n",
    "    ef = 0.5*(1+erf((x-eu)/sqrt(2)/es))\n",
    "    ep = exp(-(x-eu)**2/(2*es*es))/sqrt(2*pi)/es\n",
    "    \n",
    "    er = mf - ef\n",
    "    e.append(er)\n",
    "    \n",
    "    ds = ep * ( eu - x ) / ms\n",
    "    es = es + er * eps * ds\n",
    "    \n",
    "    du = -ep\n",
    "    eu = eu + er * eps * du\n",
    "\n",
    "display(mu, eu)\n",
    "display(ms, es)\n",
    "plot(log(array(e, dtype='float32')**2))\n",
    "ylim(-60,0) "
   ]
  },
  {
   "cell_type": "code",
   "execution_count": 132,
   "metadata": {
    "collapsed": false
   },
   "outputs": [
    {
     "data": {
      "text/plain": [
       "array([[ 0.5,  0.5],\n",
       "       [ 0.5, -0.5]])"
      ]
     },
     "metadata": {},
     "output_type": "display_data"
    },
    {
     "data": {
      "text/plain": [
       "(array([ 1., -5.]), array([[ 0.70710678,  0.70710678],\n",
       "        [-0.70710678,  0.70710678]]))"
      ]
     },
     "metadata": {},
     "output_type": "display_data"
    }
   ],
   "source": [
    "from IPython.display import display\n",
    "from matplotlib.pylab import *\n",
    "X = array([[1,1],[1,-1]])\n",
    "s = array([-5, 1])\n",
    "A = X.dot(diag(s)).dot(inv(X))\n",
    "display(inv(X), eig(A))"
   ]
  },
  {
   "cell_type": "code",
   "execution_count": 147,
   "metadata": {
    "collapsed": false
   },
   "outputs": [
    {
     "data": {
      "image/png": "[encoded data removed]",
      "text/latex": [
       "$$0.248830830354$$"
      ],
      "text/plain": [
       "0.248830830354"
      ]
     },
     "metadata": {},
     "output_type": "display_data"
    },
    {
     "data": {
      "image/png": "[encoded data removed]",
      "text/latex": [
       "$$0.248830566255$$"
      ],
      "text/plain": [
       "0.248830566255"
      ]
     },
     "metadata": {},
     "output_type": "display_data"
    }
   ],
   "source": [
    "from math import erf\n",
    "eps = pow(2, -20)\n",
    "f = 0\n",
    "for k in range(2**20):\n",
    "    f = f + exp(-(2*k*eps)**2)\n",
    "\n",
    "display(f*eps/sqrt(pi), erf(2)/2/2)"
   ]
  },
  {
   "cell_type": "code",
   "execution_count": null,
   "metadata": {
    "collapsed": true
   },
   "outputs": [],
   "source": []
  }
 ],
 "metadata": {
  "kernelspec": {
   "display_name": "Python 2",
   "language": "python",
   "name": "python2"
  },
  "language_info": {
   "codemirror_mode": {
    "name": "ipython",
    "version": 2
   },
   "file_extension": ".py",
   "mimetype": "text/x-python",
   "name": "python",
   "nbconvert_exporter": "python",
   "pygments_lexer": "ipython2",
   "version": "2.7.10"
  }
 },
 "nbformat": 4,
 "nbformat_minor": 0
}
