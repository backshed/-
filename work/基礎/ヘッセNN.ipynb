{
 "cells": [
  {
   "cell_type": "code",
   "execution_count": 3,
   "metadata": {
    "collapsed": false
   },
   "outputs": [
    {
     "data": {
      "text/plain": [
       "0"
      ]
     },
     "metadata": {},
     "output_type": "display_data"
    },
    {
     "data": {
      "text/plain": [
       "array([[0],\n",
       "       [0],\n",
       "       [0],\n",
       "       [0]])"
      ]
     },
     "metadata": {},
     "output_type": "display_data"
    },
    {
     "data": {
      "text/plain": [
       "array([[  1.66274636e-03],\n",
       "       [  4.33700298e-11],\n",
       "       [  2.29004050e-04],\n",
       "       [  3.00485749e-04]])"
      ]
     },
     "metadata": {},
     "output_type": "display_data"
    },
    {
     "data": {
      "text/plain": [
       "1"
      ]
     },
     "metadata": {},
     "output_type": "display_data"
    },
    {
     "data": {
      "text/plain": [
       "array([[0],\n",
       "       [0],\n",
       "       [0],\n",
       "       [1]])"
      ]
     },
     "metadata": {},
     "output_type": "display_data"
    },
    {
     "data": {
      "text/plain": [
       "array([[  8.14605978e-05],\n",
       "       [  8.52243518e-03],\n",
       "       [  1.80896124e-06],\n",
       "       [  9.47259352e-01]])"
      ]
     },
     "metadata": {},
     "output_type": "display_data"
    },
    {
     "data": {
      "text/plain": [
       "2"
      ]
     },
     "metadata": {},
     "output_type": "display_data"
    },
    {
     "data": {
      "text/plain": [
       "array([[0],\n",
       "       [0],\n",
       "       [1],\n",
       "       [0]])"
      ]
     },
     "metadata": {},
     "output_type": "display_data"
    },
    {
     "data": {
      "text/plain": [
       "array([[  5.39909135e-05],\n",
       "       [  7.19249156e-03],\n",
       "       [  9.59817039e-01],\n",
       "       [  4.07941765e-04]])"
      ]
     },
     "metadata": {},
     "output_type": "display_data"
    },
    {
     "data": {
      "text/plain": [
       "3"
      ]
     },
     "metadata": {},
     "output_type": "display_data"
    },
    {
     "data": {
      "text/plain": [
       "array([[0],\n",
       "       [0],\n",
       "       [1],\n",
       "       [1]])"
      ]
     },
     "metadata": {},
     "output_type": "display_data"
    },
    {
     "data": {
      "text/plain": [
       "array([[  1.63367297e-05],\n",
       "       [  9.20572819e-01],\n",
       "       [  3.14953182e-03],\n",
       "       [  4.45497645e-03]])"
      ]
     },
     "metadata": {},
     "output_type": "display_data"
    },
    {
     "data": {
      "text/plain": [
       "4"
      ]
     },
     "metadata": {},
     "output_type": "display_data"
    },
    {
     "data": {
      "text/plain": [
       "array([[0],\n",
       "       [1],\n",
       "       [0],\n",
       "       [0]])"
      ]
     },
     "metadata": {},
     "output_type": "display_data"
    },
    {
     "data": {
      "text/plain": [
       "array([[  9.73701059e-01],\n",
       "       [  6.32451869e-11],\n",
       "       [  3.26733503e-05],\n",
       "       [  5.31380017e-04]])"
      ]
     },
     "metadata": {},
     "output_type": "display_data"
    }
   ],
   "source": [
    "#ただの最急降下法\n",
    "%matplotlib inline\n",
    "from IPython.display import display\n",
    "from matplotlib.pylab import *\n",
    "I=map(lambda v:transpose(array([v])),[[0,0,0,0],[0,0,0,1],[0,0,1,0],[0,0,1,1],[0,1,0,0]])\n",
    "O=map(lambda v:transpose(array([v])),[[0,0,0,0],[0,0,0,1],[0,0,1,0],[0,1,0,0],[1,0,0,0]])\n",
    "HB=normal(0, 0.1, (16, 1))\n",
    "HW=normal(0, 0.1, (16, 4))\n",
    "OB=normal(0, 0.1, (4,  1))\n",
    "OW=normal(0, 0.1, (4, 16))\n",
    "\n",
    "eps = 0.001\n",
    "k = 0\n",
    "r = 8\n",
    "for idx in range(16384):\n",
    "    k = idx % 5\n",
    "    Ik = I[k]\n",
    "    Ok = O[k]\n",
    "    HO = (0.5 + 0.5 * tanh(r*(dot(HW, Ik)+HB)))# > uniform(0, 1, (16, 1))\n",
    "    OO = (0.5 + 0.5 * tanh(r*(dot(OW, HO)+OB)))# > uniform(0, 1, (4, 1))\n",
    "\n",
    "    DX = Ok - OO\n",
    "\n",
    "    #O update\n",
    "    DB = DX * r * (1 - OO * OO)\n",
    "    DX = dot(transpose(OW), DB)\n",
    "    \n",
    "    OW = OW + eps * dot(DB, transpose(HO))\n",
    "    OB = OB + eps * DB\n",
    "\n",
    "    #H update\n",
    "    DB = DX * r * (1 - HO * HO)\n",
    "    DX = dot(transpose(HW), DB)\n",
    "    \n",
    "    DW = dot(DB, transpose(Ik))\n",
    "    HW = HW + eps * DW\n",
    "    HB = HB + eps * DB\n",
    "\n",
    "for k in range(5):\n",
    "    Ik = I[k]\n",
    "    Ok = O[k]\n",
    "    HO = 0.5 + 0.5 * tanh(r*(dot(HW, Ik)+HB))\n",
    "    OO = 0.5 + 0.5 * tanh(r*(dot(OW, HO)+OB))\n",
    "    display(k, Ik, OO)"
   ]
  },
  {
   "cell_type": "code",
   "execution_count": 2,
   "metadata": {
    "collapsed": false
   },
   "outputs": [
    {
     "data": {
      "text/plain": [
       "0"
      ]
     },
     "metadata": {},
     "output_type": "display_data"
    },
    {
     "data": {
      "text/plain": [
       "array([[0],\n",
       "       [0],\n",
       "       [0],\n",
       "       [0]])"
      ]
     },
     "metadata": {},
     "output_type": "display_data"
    },
    {
     "data": {
      "text/plain": [
       "array([[  2.10937461e-03],\n",
       "       [  1.13830280e-07],\n",
       "       [  1.32470947e-03],\n",
       "       [  2.11880055e-04]])"
      ]
     },
     "metadata": {},
     "output_type": "display_data"
    },
    {
     "data": {
      "text/plain": [
       "1"
      ]
     },
     "metadata": {},
     "output_type": "display_data"
    },
    {
     "data": {
      "text/plain": [
       "array([[0],\n",
       "       [0],\n",
       "       [0],\n",
       "       [1]])"
      ]
     },
     "metadata": {},
     "output_type": "display_data"
    },
    {
     "data": {
      "text/plain": [
       "array([[  2.38885518e-04],\n",
       "       [  2.07457876e-03],\n",
       "       [  5.77815771e-07],\n",
       "       [  9.61447007e-01]])"
      ]
     },
     "metadata": {},
     "output_type": "display_data"
    },
    {
     "data": {
      "text/plain": [
       "2"
      ]
     },
     "metadata": {},
     "output_type": "display_data"
    },
    {
     "data": {
      "text/plain": [
       "array([[0],\n",
       "       [0],\n",
       "       [1],\n",
       "       [0]])"
      ]
     },
     "metadata": {},
     "output_type": "display_data"
    },
    {
     "data": {
      "text/plain": [
       "array([[  1.08919943e-04],\n",
       "       [  2.00483013e-03],\n",
       "       [  9.61292076e-01],\n",
       "       [  1.11012563e-04]])"
      ]
     },
     "metadata": {},
     "output_type": "display_data"
    },
    {
     "data": {
      "text/plain": [
       "3"
      ]
     },
     "metadata": {},
     "output_type": "display_data"
    },
    {
     "data": {
      "text/plain": [
       "array([[0],\n",
       "       [0],\n",
       "       [1],\n",
       "       [1]])"
      ]
     },
     "metadata": {},
     "output_type": "display_data"
    },
    {
     "data": {
      "text/plain": [
       "array([[  3.81101396e-05],\n",
       "       [  9.57878490e-01],\n",
       "       [  2.01089548e-03],\n",
       "       [  3.07216707e-03]])"
      ]
     },
     "metadata": {},
     "output_type": "display_data"
    },
    {
     "data": {
      "text/plain": [
       "4"
      ]
     },
     "metadata": {},
     "output_type": "display_data"
    },
    {
     "data": {
      "text/plain": [
       "array([[0],\n",
       "       [1],\n",
       "       [0],\n",
       "       [0]])"
      ]
     },
     "metadata": {},
     "output_type": "display_data"
    },
    {
     "data": {
      "text/plain": [
       "array([[  9.68109708e-01],\n",
       "       [  2.56579997e-08],\n",
       "       [  1.69689557e-04],\n",
       "       [  2.01586861e-04]])"
      ]
     },
     "metadata": {},
     "output_type": "display_data"
    }
   ],
   "source": [
    "#ただの最急降下法\n",
    "%matplotlib inline\n",
    "from IPython.display import display\n",
    "from matplotlib.pylab import *\n",
    "I=map(lambda v:transpose(array([v])),[[0,0,0,0],[0,0,0,1],[0,0,1,0],[0,0,1,1],[0,1,0,0]])\n",
    "O=map(lambda v:transpose(array([v])),[[0,0,0,0],[0,0,0,1],[0,0,1,0],[0,1,0,0],[1,0,0,0]])\n",
    "HB=normal(0, 0.1, (16, 1))\n",
    "HW=normal(0, 0.1, (16, 4))\n",
    "OB=normal(0, 0.1, (4,  1))\n",
    "OW=normal(0, 0.1, (4, 16))\n",
    "\n",
    "eps = 0.001\n",
    "k = 0\n",
    "r = 8\n",
    "for idx in range(16384):\n",
    "    k = idx % 5\n",
    "    Ik = I[k]\n",
    "    Ok = O[k]\n",
    "    HO = (0.5 + 0.5 * tanh(r*(dot(HW, Ik)+HB)))# > uniform(0, 1, (16, 1))\n",
    "    OO = (0.5 + 0.5 * tanh(r*(dot(OW, HO)+OB)))# > uniform(0, 1, (4, 1))\n",
    "\n",
    "    DX = Ok - OO\n",
    "\n",
    "    #O update\n",
    "    DB = DX * r * (1 - OO * OO)\n",
    "    DX = dot(transpose(OW), DB)\n",
    "    \n",
    "    OW = OW + eps * dot(DB, transpose(HO))\n",
    "    OB = OB + eps * DB\n",
    "\n",
    "    #H update\n",
    "    DB = DX * r * (1 - HO * HO)\n",
    "    DX = dot(transpose(HW), DB)\n",
    "    \n",
    "    DW = dot(DB, transpose(Ik))\n",
    "    HW = HW + eps * DW\n",
    "    HB = HB + eps * DB\n",
    "\n",
    "for k in range(5):\n",
    "    Ik = I[k]\n",
    "    Ok = O[k]\n",
    "    HO = 0.5 + 0.5 * tanh(r*(dot(HW, Ik)+HB))\n",
    "    OO = 0.5 + 0.5 * tanh(r*(dot(OW, HO)+OB))\n",
    "    display(k, Ik, OO)"
   ]
  }
 ],
 "metadata": {
  "kernelspec": {
   "display_name": "Python 2",
   "language": "python",
   "name": "python2"
  },
  "language_info": {
   "codemirror_mode": {
    "name": "ipython",
    "version": 2
   },
   "file_extension": ".py",
   "mimetype": "text/x-python",
   "name": "python",
   "nbconvert_exporter": "python",
   "pygments_lexer": "ipython2",
   "version": "2.7.10"
  }
 },
 "nbformat": 4,
 "nbformat_minor": 0
}
